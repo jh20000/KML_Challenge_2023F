{
 "cells": [
  {
   "cell_type": "markdown",
   "metadata": {},
   "source": [
    "##### Imports & Global Setting"
   ]
  },
  {
   "cell_type": "code",
   "execution_count": 1,
   "metadata": {},
   "outputs": [],
   "source": [
    "import os\n",
    "import random\n",
    "import pickle\n",
    "import gzip\n",
    "import gc\n",
    "import re\n",
    "import warnings\n",
    "warnings.filterwarnings(\"ignore\")  # 불필요한 경고 메시지 숨김\n",
    "\n",
    "import pandas as pd\n",
    "import numpy as np\n",
    "import seaborn as sns\n",
    "import matplotlib.pyplot as plt\n",
    "import matplotlib.font_manager as fm\n",
    "from matplotlib import rc\n",
    "from tqdm import tqdm, tqdm_notebook\n",
    "\n",
    "\n",
    "\n",
    "from sklearn.impute import SimpleImputer  # 결측값 처리\n",
    "from sklearn.preprocessing import StandardScaler, MinMaxScaler, OrdinalEncoder  # 데이터 스케일링 & 인코딩\n",
    "from sklearn.cluster import KMeans  # 군집화 (클러스터링)\n",
    "from lightgbm import LGBMClassifier  # LightGBM\n",
    "from catboost import CatBoostClassifier  # CatBoost\n",
    "from xgboost import XGBClassifier  # XGBoost\n",
    "from sklearn.ensemble import BaggingClassifier, GradientBoostingClassifier  # 앙상블 모델\n",
    "from sklearn.model_selection import cross_val_score, KFold  # 교차 검증 (K-Fold)\n",
    "from sklearn.metrics import accuracy_score  # 정확도 평가\n",
    "import shap  # SHAP 값 계산을 통한 피처 중요도 분석\n",
    "%matplotlib inline  \n"
   ]
  },
  {
   "cell_type": "markdown",
   "metadata": {},
   "source": [
    "### 데이터 설명\n",
    "- **패널(Panel) 데이터**\n",
    "  - userID: 패널 ID\n",
    "  - BIRTH: 생일(연도)\n",
    "  - GENDER: 1(남자) 2(여자)\n",
    "  - REGION: 거주지역\n",
    "  - TYPE: 패널 구분\n",
    "  - SQ1 ~ DQ7: 패널 가입 시 설문조사 데이터 상세정보 참가자에 한하여 제공\n",
    "- **설문(Survey) 데이터**\n",
    "  - surveyID: 설문 ID\n",
    "  - TITLE: 설문 제목\n",
    "  - IR: 난이도(응답가능성, 100이 최고)\n",
    "  - LOI: 설문하는데 걸리는 시간 (분단위)\n",
    "  - CATEGORIES: 설문 분류\n",
    "  - CPI: 패널 응답 리워드 포인트(1P~)\n",
    "- **응답(Response) 데이터**\n",
    "  - STATUS: 응답여부 (Target)\n",
    "  - (test 데이터의) ID: submission을 식별하기 위한 ID로 사용"
   ]
  },
  {
   "cell_type": "markdown",
   "metadata": {},
   "source": [
    "# 01. Data Loading"
   ]
  },
  {
   "cell_type": "code",
   "execution_count": 3,
   "metadata": {
    "scrolled": true
   },
   "outputs": [],
   "source": [
    "train = pd.read_csv('train.csv', encoding='cp949')\n",
    "test = pd.read_csv('test.csv', encoding='cp949')"
   ]
  },
  {
   "cell_type": "code",
   "execution_count": 4,
   "metadata": {},
   "outputs": [
    {
     "data": {
      "text/plain": [
       "Index(['userID', 'surveyID', 'BIRTH', 'GENDER', 'REGION', 'TYPE', 'SQ1', 'SQ2',\n",
       "       'SQ3', 'SQ4', 'SQ5', 'SQ6', 'SQ7', 'SQ8', 'A1', 'B1', 'B2', 'B3', 'B4',\n",
       "       'B5', 'C1', 'C2', 'C3', 'F1', 'F2', 'H1', 'T1', 'X1', 'X2', 'X3', 'X4',\n",
       "       'DQ1', 'DQ2', 'DQ3', 'DQ4', 'DQ5', 'DQ6', 'DQ7', 'TITLE', 'IR', 'LOI',\n",
       "       'CATEGORIES', 'CPI', 'STATUS'],\n",
       "      dtype='object')"
      ]
     },
     "execution_count": 4,
     "metadata": {},
     "output_type": "execute_result"
    }
   ],
   "source": [
    "original_features = train.columns\n",
    "original_features"
   ]
  },
  {
   "cell_type": "markdown",
   "metadata": {},
   "source": [
    "# 02. Data Preprocessing"
   ]
  },
  {
   "cell_type": "markdown",
   "metadata": {},
   "source": [
    "##### Clean data & derive features"
   ]
  },
  {
   "cell_type": "code",
   "execution_count": 5,
   "metadata": {
    "scrolled": true
   },
   "outputs": [
    {
     "name": "stdout",
     "output_type": "stream",
     "text": [
      "userID \t 15155 \t 0.0\n",
      "surveyID \t 1293 \t 0.0\n",
      "BIRTH \t 76 \t 0.0\n",
      "GENDER \t 2 \t 0.0\n",
      "REGION \t 17 \t 0.0\n",
      "TYPE \t 3 \t 0.0\n",
      "SQ1 \t 2 \t 0.0009770785964481042\n",
      "SQ2 \t 82 \t 0.0014293615190806859\n",
      "SQ3 \t 47 \t 0.09023044306520002\n",
      "SQ4 \t 52 \t 0.09058931973207153\n",
      "SQ5 \t 273 \t 0.14450930989983407\n",
      "SQ6 \t 30 \t 0.14490751551649972\n",
      "SQ7 \t 1234 \t 0.1802556381736619\n",
      "SQ8 \t 1774 \t 0.1831610643397038\n",
      "A1 \t 2768 \t 0.2083279051189086\n",
      "B1 \t 131 \t 0.21447796964296686\n",
      "B2 \t 120 \t 0.2426792847047256\n",
      "B3 \t 110 \t 0.24790757696798377\n",
      "B4 \t 715 \t 0.2602888219750507\n",
      "B5 \t 669 \t 0.26743317151109197\n",
      "TITLE \t 1286 \t 0.0\n",
      "IR \t 42 \t 0.0\n",
      "LOI \t 26 \t 0.0\n",
      "CPI \t 43 \t 0.0\n",
      "STATUS \t 2 \t 0.0\n"
     ]
    }
   ],
   "source": [
    "# 결측값 비율이 30% 이하인 column만 사용(사용할 피처들만 출력)\n",
    "features = []\n",
    "for f in train.columns:\n",
    "    if train[f].isnull().sum()/train.shape[0] <= 0.3:\n",
    "        print(f, '\\t', train[f].nunique(), '\\t', train[f].isnull().sum()/train.shape[0])\n",
    "        features.append(f)"
   ]
  },
  {
   "cell_type": "code",
   "execution_count": 6,
   "metadata": {},
   "outputs": [],
   "source": [
    "# 불필요한 ID들은 제외. SQ1 ~ SQ3는 GENDER, BIRTH, REGION과 중복이어서 제외!\n",
    "# features.remove('userID')\n",
    "# features.remove('surveyID')\n",
    "features.remove('STATUS')\n",
    "features.remove('SQ1')\n",
    "features.remove('SQ2')\n",
    "features.remove('SQ3')"
   ]
  },
  {
   "cell_type": "code",
   "execution_count": 7,
   "metadata": {},
   "outputs": [],
   "source": [
    "# 거주 주택 형태: 1/2/3/4/5/6/97이 정상값\n",
    "def handle_profile(x):\n",
    "    if x in ['1', '2', '3', '4', '5', '6']:\n",
    "        return int(x)\n",
    "    elif x in ['1,', '2,', '3,', '4,', '5,', '6,']:\n",
    "        return int(x[0])\n",
    "    else:\n",
    "        return 99\n",
    "\n",
    "train.SQ4 = train.SQ4.apply(handle_profile)\n",
    "test.SQ4 = test.SQ4.apply(handle_profile)"
   ]
  },
  {
   "cell_type": "code",
   "execution_count": 8,
   "metadata": {},
   "outputs": [],
   "source": [
    "# 최종학력: 1/2/3/4 정상값\n",
    "def handle_profile(x):\n",
    "    if x in ['1', '2', '3', '4']:\n",
    "        return int(x)\n",
    "    elif x in ['1.0', '2.0', '3.0', '4.0']:\n",
    "        return int(x[0])\n",
    "    else:\n",
    "        return 99\n",
    "\n",
    "train.SQ5 = train.SQ5.apply(handle_profile)\n",
    "test.SQ5 = test.SQ5.apply(handle_profile)"
   ]
  },
  {
   "cell_type": "code",
   "execution_count": 9,
   "metadata": {},
   "outputs": [],
   "source": [
    "# 결혼여부: 1/2/97 정상값\n",
    "def handle_profile(x):\n",
    "    if x in ['1', '2']:\n",
    "        return int(x)\n",
    "    elif x in ['1,', '2,']:\n",
    "        return int(x[0])\n",
    "    else:\n",
    "        return 99\n",
    "\n",
    "train.SQ6 = train.SQ6.apply(handle_profile)\n",
    "test.SQ6 = test.SQ6.apply(handle_profile)"
   ]
  },
  {
   "cell_type": "code",
   "execution_count": 10,
   "metadata": {},
   "outputs": [],
   "source": [
    "# 자녀 정보: 1~16/99 정상값\n",
    "value1 = pd.Series(range(1,17)).apply(lambda x: str(x)).tolist()\n",
    "value2 = pd.Series(np.arange(1.0,17.0)).apply(lambda x: str(x)).tolist()\n",
    "def handle_profile(x):\n",
    "    if x in value1:\n",
    "        return int(x)\n",
    "    elif x in value2:\n",
    "        return int(x[0])\n",
    "    else:\n",
    "        return 99\n",
    "\n",
    "train.SQ7 = train.SQ7.apply(handle_profile)\n",
    "test.SQ7 = test.SQ7.apply(handle_profile)"
   ]
  },
  {
   "cell_type": "code",
   "execution_count": 11,
   "metadata": {},
   "outputs": [],
   "source": [
    "# 가족수: 1/2/3/4/5 정상값\n",
    "def handle_profile(x):\n",
    "    if x in ['1', '2', '3', '4', '5']:\n",
    "        return int(x)\n",
    "    else:\n",
    "        return 99\n",
    "\n",
    "train.SQ8 = train.SQ8.apply(handle_profile)\n",
    "test.SQ8 = test.SQ8.apply(handle_profile)"
   ]
  },
  {
   "cell_type": "code",
   "execution_count": 12,
   "metadata": {},
   "outputs": [],
   "source": [
    "# 최근 구입/렌트 가전제품: 1~22/99 정상값\n",
    "values = pd.Series(range(1,23)).apply(lambda x: str(x)).tolist()\n",
    "def handle_profile(x):    \n",
    "    if x in values:\n",
    "        return int(x)\n",
    "    else:\n",
    "        return 99\n",
    "\n",
    "train.A1 = train.A1.apply(handle_profile)\n",
    "test.A1 = test.A1.apply(handle_profile)"
   ]
  },
  {
   "cell_type": "code",
   "execution_count": 13,
   "metadata": {},
   "outputs": [],
   "source": [
    "# 휴대폰 통신망 종류: 1~8/99 정상값\n",
    "def handle_profile(x):    \n",
    "    if x in ['1']:\n",
    "        return 2\n",
    "    elif x in ['2', '3']:\n",
    "        return 3\n",
    "    elif x in ['4', '5', '6', '7']:\n",
    "        return 4\n",
    "    elif x in ['8']:\n",
    "        return 5\n",
    "    else:\n",
    "        return 99\n",
    "\n",
    "train.B1 = train.B1.apply(handle_profile)\n",
    "test.B1 = test.B1.apply(handle_profile)"
   ]
  },
  {
   "cell_type": "code",
   "execution_count": 14,
   "metadata": {},
   "outputs": [],
   "source": [
    "# 가입한 이동통신사: 1~6/97 정상값 \n",
    "def handle_profile(x):\n",
    "    if x in ['1', '2', '3', '4', '5', '6']:\n",
    "        return int(x)\n",
    "    else:\n",
    "        return 99\n",
    "\n",
    "train.B2 = train.B2.apply(handle_profile)\n",
    "test.B2 = test.B2.apply(handle_profile)"
   ]
  },
  {
   "cell_type": "code",
   "execution_count": 15,
   "metadata": {},
   "outputs": [],
   "source": [
    "# 휴대폰 브랜드: 1~7/97/99 --1등\n",
    "def handle_profile(x):    \n",
    "    if x in ['1', '2', '3']:\n",
    "        return int(x)\n",
    "    elif x in ['1,', '2,', '3,']:\n",
    "        return int(x[0])\n",
    "    elif x in ['99', '99,']:\n",
    "        return 99\n",
    "    else:\n",
    "        return 4  # 기타 제조사\n",
    "\n",
    "train.B3 = train.B3.apply(handle_profile)\n",
    "test.B3 = test.B3.apply(handle_profile)"
   ]
  },
  {
   "cell_type": "code",
   "execution_count": 16,
   "metadata": {},
   "outputs": [],
   "source": [
    "# 보유 스마트 기기: 1~7/97/99  --1등\n",
    "def handle_profile(x):    \n",
    "    if x != x :\n",
    "        return 0\n",
    "    elif x in ['1', '2', '3', '4', '5', '6', '7' , '99', '97']:\n",
    "        return int(x)\n",
    "    else:\n",
    "        return 98\n",
    "\n",
    "train.B4 = train.B4.apply(handle_profile)\n",
    "test.B4 = test.B4.apply(handle_profile)"
   ]
  },
  {
   "cell_type": "code",
   "execution_count": 17,
   "metadata": {},
   "outputs": [],
   "source": [
    "# 케이블TV: 1~10/97/99  --1등\n",
    "def handle_profile(x):    \n",
    "    if x != x :\n",
    "        return 0\n",
    "    elif x in ['1', '2', '3', '4' ,'5', '6', '7', '8', '9', '10']:\n",
    "        return int(x)\n",
    "    elif x in ['1,', '2,', '3,', '4,' ,'5,', '6,', '7,', '8,', '9,', '10,']:\n",
    "        return int(x[0])\n",
    "    elif x in ['99', '99,']:\n",
    "        return 99\n",
    "    else:\n",
    "        return 4  # 기타 제조사\n",
    "\n",
    "train.B5 = train.B5.apply(handle_profile)\n",
    "test.B5 = test.B5.apply(handle_profile)"
   ]
  },
  {
   "cell_type": "code",
   "execution_count": 18,
   "metadata": {},
   "outputs": [],
   "source": [
    "def handle_profile(x):\n",
    "    if x in ['1', '2', '3', '4', '5', '6', '7', '8', '9', '10', '11', '12', '13', '14']:\n",
    "        return int(x)\n",
    "    elif x in ['1,', '2,', '3,', '4,', '5,', '6,', '7,', '8,', '9,', '10,', '11,', '12,', '13,', '14,']:\n",
    "        return int(x[0])\n",
    "    else:\n",
    "        return 99\n",
    "\n",
    "train.C1 = train.C1.apply(handle_profile)\n",
    "test.C1 = test.C1.apply(handle_profile)"
   ]
  },
  {
   "cell_type": "code",
   "execution_count": 19,
   "metadata": {},
   "outputs": [],
   "source": [
    "def handle_profile(x):\n",
    "    if x in ['1', '2', '3', '4', '5', '6', '7', '8', '9', '10', '11', '12', '13', '14']:\n",
    "        return int(x)\n",
    "    elif x in ['1,', '2,', '3,', '4,', '5,', '6,', '7,', '8,', '9,', '10,', '11,', '12,', '13,', '14,']:\n",
    "        return int(x[0])\n",
    "    else:\n",
    "        return 99\n",
    "\n",
    "train.C2 = train.C2.apply(handle_profile)\n",
    "test.C2 = test.C2.apply(handle_profile)"
   ]
  },
  {
   "cell_type": "code",
   "execution_count": 20,
   "metadata": {},
   "outputs": [],
   "source": [
    "def handle_profile(x):\n",
    "    if x in ['1', '2', '3', '4', '5', '6', '7', '8', '9', '10']:\n",
    "        return int(x)\n",
    "    elif x in ['1,', '2,', '3,', '4,', '5,', '6,', '7,', '8,', '9,', '10,']:\n",
    "        return int(x[0])\n",
    "    else:\n",
    "        return 99\n",
    "\n",
    "train.C3 = train.C3.apply(handle_profile)\n",
    "test.C3 = test.C3.apply(handle_profile)"
   ]
  },
  {
   "cell_type": "markdown",
   "metadata": {},
   "source": [
    "### **< train_TITLE >** 피처"
   ]
  },
  {
   "cell_type": "code",
   "execution_count": 21,
   "metadata": {},
   "outputs": [],
   "source": [
    "train_TITLE = train.copy()\n",
    "test_TITLE = test.copy()"
   ]
  },
  {
   "cell_type": "markdown",
   "metadata": {},
   "source": [
    "# 03. 피처추가 Feature Generation(FE_GN)"
   ]
  },
  {
   "cell_type": "markdown",
   "metadata": {},
   "source": [
    "#### 01. 'RESRATE_round' : 응답률(RESRATE) 구간화"
   ]
  },
  {
   "cell_type": "code",
   "execution_count": 22,
   "metadata": {},
   "outputs": [],
   "source": [
    "# 01. [RESRATE_round] : 응답률(RESRATE) 구간화\n",
    "\n",
    "res_freq = train.query('STATUS == 1').groupby('userID')['userID'].agg([('FREQ',np.size)]).reset_index()\n",
    "send_freq = train.groupby('userID')['userID'].agg([('SEND',np.size)]).reset_index()\n",
    "\n",
    "train = train.merge(res_freq, how='left').merge(send_freq, how='left')\n",
    "train['RESRATE'] = train['FREQ'] / train['SEND']\n",
    "del train['FREQ'], train['SEND']\n",
    "test = pd.merge(test, train.drop_duplicates(subset=['userID'])[['userID', 'RESRATE']], how='left')\n",
    "test['RESRATE'] = test['RESRATE'].fillna(0)\n",
    "\n",
    "\n",
    "#features.extend(['RESRATE'])    --> 피처 추가는 round된 버전으로!\n",
    "\n",
    "# 구간화\n",
    "train['RESRATE_round'] = round(train['RESRATE'],3) \n",
    "test['RESRATE_round'] = round(test['RESRATE'],3) \n",
    "\n",
    "features.extend(['RESRATE_round'])"
   ]
  },
  {
   "cell_type": "code",
   "execution_count": 23,
   "metadata": {},
   "outputs": [
    {
     "data": {
      "text/plain": [
       "0.750000    4168\n",
       "0.500000    3746\n",
       "0.857143    2471\n",
       "0.666667    2406\n",
       "0.250000    2276\n",
       "            ... \n",
       "0.184211      38\n",
       "0.194444      36\n",
       "0.147059      34\n",
       "0.393939      33\n",
       "0.593750      32\n",
       "Name: RESRATE, Length: 2441, dtype: int64"
      ]
     },
     "execution_count": 23,
     "metadata": {},
     "output_type": "execute_result"
    }
   ],
   "source": [
    "train['RESRATE'].value_counts()"
   ]
  },
  {
   "cell_type": "code",
   "execution_count": 24,
   "metadata": {
    "scrolled": true
   },
   "outputs": [
    {
     "data": {
      "text/plain": [
       "D    363127\n",
       "B    332546\n",
       "C    117977\n",
       "Name: TYPE, dtype: int64"
      ]
     },
     "execution_count": 24,
     "metadata": {},
     "output_type": "execute_result"
    }
   ],
   "source": [
    "train['TYPE'].value_counts()"
   ]
  },
  {
   "cell_type": "markdown",
   "metadata": {},
   "source": [
    "#### 02. 'TYPE_RES_RATE' : 타입별 응답률"
   ]
  },
  {
   "cell_type": "code",
   "execution_count": 25,
   "metadata": {},
   "outputs": [],
   "source": [
    "# 02. ['TYPE_RES_RATE'] : 타입별 응답률\n",
    "\n",
    "response = train.groupby('TYPE')['STATUS'].agg([('TYPE_RES_RATE', lambda x: np.mean(x))]).reset_index()\n",
    "train = train.merge(response, how='left', on='TYPE')\n",
    "test = test.merge(response, how='left', on='TYPE')\n",
    "\n",
    "features.extend(['TYPE_RES_RATE'])"
   ]
  },
  {
   "cell_type": "code",
   "execution_count": 26,
   "metadata": {},
   "outputs": [
    {
     "data": {
      "text/html": [
       "\n",
       "  <div id=\"df-a21371ab-879a-44d6-bc74-1549bad214b3\" class=\"colab-df-container\">\n",
       "    <div>\n",
       "<style scoped>\n",
       "    .dataframe tbody tr th:only-of-type {\n",
       "        vertical-align: middle;\n",
       "    }\n",
       "\n",
       "    .dataframe tbody tr th {\n",
       "        vertical-align: top;\n",
       "    }\n",
       "\n",
       "    .dataframe thead th {\n",
       "        text-align: right;\n",
       "    }\n",
       "</style>\n",
       "<table border=\"1\" class=\"dataframe\">\n",
       "  <thead>\n",
       "    <tr style=\"text-align: right;\">\n",
       "      <th></th>\n",
       "      <th>TYPE</th>\n",
       "      <th>TYPE_RES_RATE</th>\n",
       "    </tr>\n",
       "  </thead>\n",
       "  <tbody>\n",
       "    <tr>\n",
       "      <th>0</th>\n",
       "      <td>B</td>\n",
       "      <td>0.259919</td>\n",
       "    </tr>\n",
       "    <tr>\n",
       "      <th>1</th>\n",
       "      <td>C</td>\n",
       "      <td>0.067496</td>\n",
       "    </tr>\n",
       "    <tr>\n",
       "      <th>2</th>\n",
       "      <td>D</td>\n",
       "      <td>0.611816</td>\n",
       "    </tr>\n",
       "  </tbody>\n",
       "</table>\n",
       "</div>\n",
       "    <div class=\"colab-df-buttons\">\n",
       "      \n",
       "  <div class=\"colab-df-container\">\n",
       "    <button class=\"colab-df-convert\" onclick=\"convertToInteractive('df-a21371ab-879a-44d6-bc74-1549bad214b3')\"\n",
       "            title=\"Convert this dataframe to an interactive table.\"\n",
       "            style=\"display:none;\">\n",
       "      \n",
       "  <svg xmlns=\"http://www.w3.org/2000/svg\" height=\"24px\" viewBox=\"0 -960 960 960\">\n",
       "    <path d=\"M120-120v-720h720v720H120Zm60-500h600v-160H180v160Zm220 220h160v-160H400v160Zm0 220h160v-160H400v160ZM180-400h160v-160H180v160Zm440 0h160v-160H620v160ZM180-180h160v-160H180v160Zm440 0h160v-160H620v160Z\"/>\n",
       "  </svg>\n",
       "    </button>\n",
       "    \n",
       "  <style>\n",
       "    .colab-df-container {\n",
       "      display:flex;\n",
       "      gap: 12px;\n",
       "    }\n",
       "\n",
       "    .colab-df-convert {\n",
       "      background-color: #E8F0FE;\n",
       "      border: none;\n",
       "      border-radius: 50%;\n",
       "      cursor: pointer;\n",
       "      display: none;\n",
       "      fill: #1967D2;\n",
       "      height: 32px;\n",
       "      padding: 0 0 0 0;\n",
       "      width: 32px;\n",
       "    }\n",
       "\n",
       "    .colab-df-convert:hover {\n",
       "      background-color: #E2EBFA;\n",
       "      box-shadow: 0px 1px 2px rgba(60, 64, 67, 0.3), 0px 1px 3px 1px rgba(60, 64, 67, 0.15);\n",
       "      fill: #174EA6;\n",
       "    }\n",
       "\n",
       "    .colab-df-buttons div {\n",
       "      margin-bottom: 4px;\n",
       "    }\n",
       "\n",
       "    [theme=dark] .colab-df-convert {\n",
       "      background-color: #3B4455;\n",
       "      fill: #D2E3FC;\n",
       "    }\n",
       "\n",
       "    [theme=dark] .colab-df-convert:hover {\n",
       "      background-color: #434B5C;\n",
       "      box-shadow: 0px 1px 3px 1px rgba(0, 0, 0, 0.15);\n",
       "      filter: drop-shadow(0px 1px 2px rgba(0, 0, 0, 0.3));\n",
       "      fill: #FFFFFF;\n",
       "    }\n",
       "  </style>\n",
       "\n",
       "    <script>\n",
       "      const buttonEl =\n",
       "        document.querySelector('#df-a21371ab-879a-44d6-bc74-1549bad214b3 button.colab-df-convert');\n",
       "      buttonEl.style.display =\n",
       "        google.colab.kernel.accessAllowed ? 'block' : 'none';\n",
       "\n",
       "      async function convertToInteractive(key) {\n",
       "        const element = document.querySelector('#df-a21371ab-879a-44d6-bc74-1549bad214b3');\n",
       "        const dataTable =\n",
       "          await google.colab.kernel.invokeFunction('convertToInteractive',\n",
       "                                                    [key], {});\n",
       "        if (!dataTable) return;\n",
       "\n",
       "        const docLinkHtml = 'Like what you see? Visit the ' +\n",
       "          '<a target=\"_blank\" href=https://colab.research.google.com/notebooks/data_table.ipynb>data table notebook</a>'\n",
       "          + ' to learn more about interactive tables.';\n",
       "        element.innerHTML = '';\n",
       "        dataTable['output_type'] = 'display_data';\n",
       "        await google.colab.output.renderOutput(dataTable, element);\n",
       "        const docLink = document.createElement('div');\n",
       "        docLink.innerHTML = docLinkHtml;\n",
       "        element.appendChild(docLink);\n",
       "      }\n",
       "    </script>\n",
       "  </div>\n",
       "  \n",
       "    </div>\n",
       "  </div>\n",
       "  "
      ],
      "text/plain": [
       "  TYPE  TYPE_RES_RATE\n",
       "0    B       0.259919\n",
       "1    C       0.067496\n",
       "2    D       0.611816"
      ]
     },
     "execution_count": 26,
     "metadata": {},
     "output_type": "execute_result"
    }
   ],
   "source": [
    "response"
   ]
  },
  {
   "cell_type": "code",
   "execution_count": 27,
   "metadata": {},
   "outputs": [
    {
     "data": {
      "text/html": [
       "\n",
       "  <div id=\"df-036e0f22-354e-41ba-b4ae-0a0f0ffcb3e8\" class=\"colab-df-container\">\n",
       "    <div>\n",
       "<style scoped>\n",
       "    .dataframe tbody tr th:only-of-type {\n",
       "        vertical-align: middle;\n",
       "    }\n",
       "\n",
       "    .dataframe tbody tr th {\n",
       "        vertical-align: top;\n",
       "    }\n",
       "\n",
       "    .dataframe thead th {\n",
       "        text-align: right;\n",
       "    }\n",
       "</style>\n",
       "<table border=\"1\" class=\"dataframe\">\n",
       "  <thead>\n",
       "    <tr style=\"text-align: right;\">\n",
       "      <th></th>\n",
       "      <th>TYPE</th>\n",
       "      <th>TYPE_RES_RATE</th>\n",
       "    </tr>\n",
       "  </thead>\n",
       "  <tbody>\n",
       "    <tr>\n",
       "      <th>0</th>\n",
       "      <td>D</td>\n",
       "      <td>0.611816</td>\n",
       "    </tr>\n",
       "    <tr>\n",
       "      <th>1</th>\n",
       "      <td>D</td>\n",
       "      <td>0.611816</td>\n",
       "    </tr>\n",
       "    <tr>\n",
       "      <th>2</th>\n",
       "      <td>D</td>\n",
       "      <td>0.611816</td>\n",
       "    </tr>\n",
       "    <tr>\n",
       "      <th>3</th>\n",
       "      <td>D</td>\n",
       "      <td>0.611816</td>\n",
       "    </tr>\n",
       "    <tr>\n",
       "      <th>4</th>\n",
       "      <td>D</td>\n",
       "      <td>0.611816</td>\n",
       "    </tr>\n",
       "    <tr>\n",
       "      <th>...</th>\n",
       "      <td>...</td>\n",
       "      <td>...</td>\n",
       "    </tr>\n",
       "    <tr>\n",
       "      <th>813645</th>\n",
       "      <td>D</td>\n",
       "      <td>0.611816</td>\n",
       "    </tr>\n",
       "    <tr>\n",
       "      <th>813646</th>\n",
       "      <td>D</td>\n",
       "      <td>0.611816</td>\n",
       "    </tr>\n",
       "    <tr>\n",
       "      <th>813647</th>\n",
       "      <td>D</td>\n",
       "      <td>0.611816</td>\n",
       "    </tr>\n",
       "    <tr>\n",
       "      <th>813648</th>\n",
       "      <td>D</td>\n",
       "      <td>0.611816</td>\n",
       "    </tr>\n",
       "    <tr>\n",
       "      <th>813649</th>\n",
       "      <td>D</td>\n",
       "      <td>0.611816</td>\n",
       "    </tr>\n",
       "  </tbody>\n",
       "</table>\n",
       "<p>813650 rows × 2 columns</p>\n",
       "</div>\n",
       "    <div class=\"colab-df-buttons\">\n",
       "      \n",
       "  <div class=\"colab-df-container\">\n",
       "    <button class=\"colab-df-convert\" onclick=\"convertToInteractive('df-036e0f22-354e-41ba-b4ae-0a0f0ffcb3e8')\"\n",
       "            title=\"Convert this dataframe to an interactive table.\"\n",
       "            style=\"display:none;\">\n",
       "      \n",
       "  <svg xmlns=\"http://www.w3.org/2000/svg\" height=\"24px\" viewBox=\"0 -960 960 960\">\n",
       "    <path d=\"M120-120v-720h720v720H120Zm60-500h600v-160H180v160Zm220 220h160v-160H400v160Zm0 220h160v-160H400v160ZM180-400h160v-160H180v160Zm440 0h160v-160H620v160ZM180-180h160v-160H180v160Zm440 0h160v-160H620v160Z\"/>\n",
       "  </svg>\n",
       "    </button>\n",
       "    \n",
       "  <style>\n",
       "    .colab-df-container {\n",
       "      display:flex;\n",
       "      gap: 12px;\n",
       "    }\n",
       "\n",
       "    .colab-df-convert {\n",
       "      background-color: #E8F0FE;\n",
       "      border: none;\n",
       "      border-radius: 50%;\n",
       "      cursor: pointer;\n",
       "      display: none;\n",
       "      fill: #1967D2;\n",
       "      height: 32px;\n",
       "      padding: 0 0 0 0;\n",
       "      width: 32px;\n",
       "    }\n",
       "\n",
       "    .colab-df-convert:hover {\n",
       "      background-color: #E2EBFA;\n",
       "      box-shadow: 0px 1px 2px rgba(60, 64, 67, 0.3), 0px 1px 3px 1px rgba(60, 64, 67, 0.15);\n",
       "      fill: #174EA6;\n",
       "    }\n",
       "\n",
       "    .colab-df-buttons div {\n",
       "      margin-bottom: 4px;\n",
       "    }\n",
       "\n",
       "    [theme=dark] .colab-df-convert {\n",
       "      background-color: #3B4455;\n",
       "      fill: #D2E3FC;\n",
       "    }\n",
       "\n",
       "    [theme=dark] .colab-df-convert:hover {\n",
       "      background-color: #434B5C;\n",
       "      box-shadow: 0px 1px 3px 1px rgba(0, 0, 0, 0.15);\n",
       "      filter: drop-shadow(0px 1px 2px rgba(0, 0, 0, 0.3));\n",
       "      fill: #FFFFFF;\n",
       "    }\n",
       "  </style>\n",
       "\n",
       "    <script>\n",
       "      const buttonEl =\n",
       "        document.querySelector('#df-036e0f22-354e-41ba-b4ae-0a0f0ffcb3e8 button.colab-df-convert');\n",
       "      buttonEl.style.display =\n",
       "        google.colab.kernel.accessAllowed ? 'block' : 'none';\n",
       "\n",
       "      async function convertToInteractive(key) {\n",
       "        const element = document.querySelector('#df-036e0f22-354e-41ba-b4ae-0a0f0ffcb3e8');\n",
       "        const dataTable =\n",
       "          await google.colab.kernel.invokeFunction('convertToInteractive',\n",
       "                                                    [key], {});\n",
       "        if (!dataTable) return;\n",
       "\n",
       "        const docLinkHtml = 'Like what you see? Visit the ' +\n",
       "          '<a target=\"_blank\" href=https://colab.research.google.com/notebooks/data_table.ipynb>data table notebook</a>'\n",
       "          + ' to learn more about interactive tables.';\n",
       "        element.innerHTML = '';\n",
       "        dataTable['output_type'] = 'display_data';\n",
       "        await google.colab.output.renderOutput(dataTable, element);\n",
       "        const docLink = document.createElement('div');\n",
       "        docLink.innerHTML = docLinkHtml;\n",
       "        element.appendChild(docLink);\n",
       "      }\n",
       "    </script>\n",
       "  </div>\n",
       "  \n",
       "    </div>\n",
       "  </div>\n",
       "  "
      ],
      "text/plain": [
       "       TYPE  TYPE_RES_RATE\n",
       "0         D       0.611816\n",
       "1         D       0.611816\n",
       "2         D       0.611816\n",
       "3         D       0.611816\n",
       "4         D       0.611816\n",
       "...     ...            ...\n",
       "813645    D       0.611816\n",
       "813646    D       0.611816\n",
       "813647    D       0.611816\n",
       "813648    D       0.611816\n",
       "813649    D       0.611816\n",
       "\n",
       "[813650 rows x 2 columns]"
      ]
     },
     "execution_count": 27,
     "metadata": {},
     "output_type": "execute_result"
    }
   ],
   "source": [
    "train[['TYPE', 'TYPE_RES_RATE']]"
   ]
  },
  {
   "cell_type": "markdown",
   "metadata": {},
   "source": [
    "#### 03. '리워드/시간'"
   ]
  },
  {
   "cell_type": "code",
   "execution_count": 28,
   "metadata": {},
   "outputs": [],
   "source": [
    "# 03. ['리워드/시간'] \n",
    "\n",
    "train['리워드/시간'] = train['CPI'] / train['LOI']\n",
    "test['리워드/시간'] = test['CPI'] / test['LOI']\n",
    "features.extend(['리워드/시간'])"
   ]
  },
  {
   "cell_type": "markdown",
   "metadata": {},
   "source": [
    "#### 04. '-(시간+난이도)_scaled' : -(시간+난이도) 스케일 진행"
   ]
  },
  {
   "cell_type": "code",
   "execution_count": 29,
   "metadata": {},
   "outputs": [],
   "source": [
    "# 04. ['-(시간+난이도)_scaled'] : -(시간+난이도) 스케일 진행\n",
    "\n",
    "# IR 피처에 대한 Min-Max Scaling\n",
    "scaler = MinMaxScaler(feature_range=(1, 35))  # LOI의 범위에 맞춰서 설정\n",
    "train['IR_scaled'] = scaler.fit_transform(train['IR'].values.reshape(-1, 1))\n",
    "test['IR_scaled'] = scaler.fit_transform(test['IR'].values.reshape(-1, 1))\n",
    "\n",
    "# 시간과 난이도의 합을 계산하여 새로운 피처 생성\n",
    "train['-(시간+난이도)_scaled'] = -(train['IR_scaled'] + train['LOI'])\n",
    "test['-(시간+난이도)_scaled'] = -(test['IR_scaled'] + test['LOI'] )\n",
    "features.extend(['-(시간+난이도)_scaled'])"
   ]
  },
  {
   "cell_type": "markdown",
   "metadata": {},
   "source": [
    "#### 05. '대상지역', '대상자유형_일반인', '대상자유형_소비자'"
   ]
  },
  {
   "cell_type": "code",
   "execution_count": 30,
   "metadata": {},
   "outputs": [],
   "source": [
    "# 05. ['대상지역', '대상자유형_일반인', '대상자유형_소비자']\n",
    "\n",
    "'''TRAIN'''\n",
    "대상지역 = np.where(train_TITLE['TITLE'].str.contains('해외'), '해외', '기타')\n",
    "대상자유형_일반인 = np.where(train_TITLE['TITLE'].str.contains('일반인'), '일반인', '기타')\n",
    "대상자유형_소비자 = np.where(train_TITLE['TITLE'].str.contains('소비자'), '소비자', '기타')\n",
    "\n",
    "### 생성된 배열을 시리즈로 변환\n",
    "대상지역 = pd.Series(대상지역, name='대상지역')\n",
    "대상자유형_일반인 = pd.Series(대상자유형_일반인, name='대상자유형_일반인')\n",
    "대상자유형_소비자 = pd.Series(대상자유형_소비자, name='대상자유형_소비자')\n",
    "\n",
    "### 데이터프레임에 병합\n",
    "train = pd.concat([train, 대상지역, 대상자유형_일반인, 대상자유형_소비자], axis=1)"
   ]
  },
  {
   "cell_type": "code",
   "execution_count": 31,
   "metadata": {},
   "outputs": [],
   "source": [
    "'''TEST'''\n",
    "대상지역 = np.where(test_TITLE['TITLE'].str.contains('해외'), '해외', '기타')\n",
    "대상자유형_일반인 = np.where(test_TITLE['TITLE'].str.contains('일반인'), '일반인', '기타')\n",
    "대상자유형_소비자 = np.where(test_TITLE['TITLE'].str.contains('소비자'), '소비자', '기타')\n",
    "\n",
    "### 생성된 배열을 시리즈로 변환\n",
    "대상지역 = pd.Series(대상지역, name='대상지역')\n",
    "대상자유형_일반인 = pd.Series(대상자유형_일반인, name='대상자유형_일반인')\n",
    "대상자유형_소비자 = pd.Series(대상자유형_소비자, name='대상자유형_소비자')\n",
    "\n",
    "### 데이터프레임에 병합\n",
    "test = pd.concat([test, 대상지역, 대상자유형_일반인, 대상자유형_소비자], axis=1)\n",
    "\n",
    "features.extend(['대상지역', '대상자유형_일반인', '대상자유형_소비자'])"
   ]
  },
  {
   "cell_type": "markdown",
   "metadata": {},
   "source": [
    "#### 06. 'Points_earned_bins' "
   ]
  },
  {
   "cell_type": "code",
   "execution_count": 32,
   "metadata": {},
   "outputs": [],
   "source": [
    "# 06. '[Points_earned_bins'] : 패널 ID 별 획득 누적 포인트\n",
    "\n",
    "#Points_earned = pd.DataFrame(train.query('STATUS==1').groupby('userID')['CPI'].agg([('Points_earned',np.sum)])).reset_index()\n",
    "Points_earned = pd.DataFrame(train.query('STATUS==1').groupby('userID')['CPI'].agg([('Points_earned',np.sum)])).reset_index()\n",
    "\n",
    "# 패널 ID 별 획득 평균 포인트\n",
    "Points_earned_mean = pd.DataFrame(train.query('STATUS==1').groupby('userID')['CPI'].agg([('Points_earned_mean',np.mean)])).reset_index()\n",
    "\n",
    "train = train.merge(Points_earned, how='left')\n",
    "train = train.merge(Points_earned_mean, how='left')\n",
    "train['Points_earned'].fillna(0, inplace = True)\n",
    "train['Points_earned_mean'].fillna(0, inplace = True)\n",
    "\n",
    "test = test.merge(Points_earned, how='left')\n",
    "test = test.merge(Points_earned_mean, how='left')\n",
    "test['Points_earned'].fillna(0, inplace = True)\n",
    "test['Points_earned_mean'].fillna(0, inplace = True)\n",
    "\n",
    "#features.extend(['Points_earned_mean'])\n",
    "\n",
    "'''구간화'''\n",
    "# 0부터 1170까지는 20씩, 1200에서 2000까지는 하나의 구간으로 설정\n",
    "bin_edges = list(range(0, 1200, 20)) + [2000]\n",
    "\n",
    "# 구간에 대한 라벨 설정\n",
    "bin_labels = [f'{i}-{i+19}' for i in range(0, 1180, 20)] + ['1200-2000']\n",
    "\n",
    "# 'Points_earned_mean' 열을 구간화하여 새로운 열로 추가\n",
    "train['Points_earned_bins'] = pd.cut(train['Points_earned_mean'], bins=bin_edges, labels=bin_labels, include_lowest=True)\n",
    "test['Points_earned_bins'] = pd.cut(test['Points_earned_mean'], bins=bin_edges, labels=bin_labels, include_lowest=True)\n",
    "\n",
    "features.append('Points_earned_bins')"
   ]
  },
  {
   "cell_type": "markdown",
   "metadata": {},
   "source": [
    "#### 07. 'Status_sum_log'"
   ]
  },
  {
   "cell_type": "code",
   "execution_count": 33,
   "metadata": {},
   "outputs": [],
   "source": [
    "# 응답 횟수(참여 횟수) 계산\n",
    "Status_sum = train.groupby('userID')['STATUS'].sum()\n",
    "\n",
    "# 데이터에 병합\n",
    "train = train.merge(Status_sum.rename('Status_sum'), on='userID', how='left')\n",
    "test = test.merge(Status_sum.rename('Status_sum'), on='userID', how='left')\n",
    "\n",
    "# 로그 변환 후 새로운 피처 생성\n",
    "train['Status_sum_log'] = np.log(train['Status_sum'] + 1)\n",
    "test['Status_sum_log'] = np.log(test['Status_sum'] + 1)\n",
    "\n",
    "# 피처 리스트에 추가\n",
    "features.extend(['Status_sum_log'])\n"
   ]
  },
  {
   "cell_type": "markdown",
   "metadata": {},
   "source": [
    "#### 08. 'RESRATE_S_round'"
   ]
  },
  {
   "cell_type": "code",
   "execution_count": 34,
   "metadata": {},
   "outputs": [],
   "source": [
    "# 설문별 응답률 (RESRATE_S) 생성\n",
    "res_freq = train.query('STATUS == 1').groupby('surveyID')['surveyID'].agg([('FREQ',np.size)]).reset_index()\n",
    "send_freq = train.groupby('surveyID')['surveyID'].agg([('SEND',np.size)]).reset_index()\n",
    "\n",
    "train = train.merge(res_freq, how='left').merge(send_freq, how='left')\n",
    "train['RESRATE_S'] = train['FREQ'] / train['SEND']\n",
    "del train['FREQ'], train['SEND']\n",
    "\n",
    "test = pd.merge(test, train.drop_duplicates(subset=['surveyID'])[['surveyID', 'RESRATE_S']], how='left')\n",
    "test['RESRATE_S'] = test['RESRATE_S'].fillna(0)\n",
    "\n",
    "features.extend(['RESRATE_S'])\n",
    "\n",
    "\n",
    "# RESRATE_S 구간화\n",
    "train['RESRATE_S_round'] = round(train['RESRATE_S'],3) \n",
    "test['RESRATE_S_round'] = round(test['RESRATE_S'],3) \n",
    "\n",
    "features.extend(['RESRATE_S_round'])"
   ]
  },
  {
   "cell_type": "code",
   "execution_count": null,
   "metadata": {},
   "outputs": [],
   "source": []
  },
  {
   "cell_type": "code",
   "execution_count": null,
   "metadata": {},
   "outputs": [],
   "source": []
  },
  {
   "cell_type": "code",
   "execution_count": 35,
   "metadata": {},
   "outputs": [],
   "source": [
    "# Survey 제목에서 유용한 정보 추출 \n",
    "word_counts = {}\n",
    "def count_word(x): # 응답한 서베이 제목에서 한글 단어만 분리하고 빈도 계산\n",
    "    if x['STATUS'] == 1:\n",
    "        for w in re.sub(r'[^ ㄱ-ㅣ가-힣]', '', x['TITLE']).split():\n",
    "            word_counts[w] = word_counts.get(w, 0) + 1\n",
    "def score_word(x): # 빈도의 합으로 제목을 Encoding\n",
    "    score = 0\n",
    "    for w in re.sub(r'[^ ㄱ-ㅣ가-힣]', '', x['TITLE']).split():\n",
    "        score += word_counts.get(w, 0)\n",
    "    return score    \n",
    "            \n",
    "train.apply(count_word, axis=1)\n",
    "train.TITLE = train.apply(score_word, axis=1)\n",
    "test.TITLE = test.apply(score_word, axis=1)"
   ]
  },
  {
   "cell_type": "markdown",
   "metadata": {},
   "source": [
    "# 04. 데이터 필터링\n"
   ]
  },
  {
   "cell_type": "code",
   "execution_count": 36,
   "metadata": {
    "scrolled": true
   },
   "outputs": [
    {
     "data": {
      "text/plain": [
       "10"
      ]
     },
     "execution_count": 36,
     "metadata": {},
     "output_type": "execute_result"
    }
   ],
   "source": [
    "#데이터 필터링\n",
    "X_train = train[features]\n",
    "X_test = test[features]\n",
    "y_train = train['STATUS']\n",
    "\n",
    "# submission을 만들 때 사용하기 위해 ID 저정\n",
    "ID_test = test.ID\n",
    "\n",
    "# 메모리 낭비를 막기위해 불필요한 데이터 삭제\n",
    "del train, test \n",
    "gc.collect()"
   ]
  },
  {
   "cell_type": "markdown",
   "metadata": {},
   "source": [
    "# 05. Feature Engineering"
   ]
  },
  {
   "cell_type": "code",
   "execution_count": 37,
   "metadata": {},
   "outputs": [],
   "source": [
    "# 범주형 변수와 수치형 변수를 분리\n",
    "def separate_features(df):\n",
    "    num_features = df.select_dtypes(include=['number']).columns.tolist()\n",
    "    cat_features = df.select_dtypes(exclude=['number']).columns.tolist()\n",
    "    return num_features, cat_features\n",
    "\n",
    "num_features, cat_features = separate_features(X_train)"
   ]
  },
  {
   "cell_type": "code",
   "execution_count": 38,
   "metadata": {},
   "outputs": [
    {
     "name": "stdout",
     "output_type": "stream",
     "text": [
      "25\n",
      "7\n"
     ]
    }
   ],
   "source": [
    "print(len(num_features))\n",
    "print(len(cat_features))"
   ]
  },
  {
   "cell_type": "markdown",
   "metadata": {},
   "source": [
    "##### 1) Impute missing values"
   ]
  },
  {
   "cell_type": "code",
   "execution_count": 39,
   "metadata": {},
   "outputs": [],
   "source": [
    "# 범주형이냐 수치형이냐에 따라 다르게 처리\n",
    "if len(num_features) > 0:\n",
    "    imp = SimpleImputer(strategy='mean')\n",
    "    X_train[num_features] = imp.fit_transform(X_train[num_features])\n",
    "    X_test[num_features] = imp.transform(X_test[num_features])\n",
    "if len(cat_features) > 0:  \n",
    "    imp = SimpleImputer(strategy=\"most_frequent\")\n",
    "    X_train[cat_features] = imp.fit_transform(X_train[cat_features])\n",
    "    X_test[cat_features] = imp.transform(X_test[cat_features])\n",
    "\n",
    "\n",
    "X_train['GENDER'] = X_train['GENDER'].astype(int)\n",
    "X_train['REGION'] = X_train['REGION'].astype(int)\n",
    "X_test['GENDER'] = X_test['GENDER'].astype(int)\n",
    "X_test['REGION'] = X_test['REGION'].astype(int)"
   ]
  },
  {
   "cell_type": "markdown",
   "metadata": {},
   "source": [
    "##### 2) Transform features (Feature Scaling)"
   ]
  },
  {
   "cell_type": "code",
   "execution_count": 40,
   "metadata": {},
   "outputs": [],
   "source": [
    "scaler = StandardScaler()\n",
    "X_train[num_features] = scaler.fit_transform(X_train[num_features])\n",
    "X_test[num_features] = scaler.transform(X_test[num_features])"
   ]
  },
  {
   "cell_type": "markdown",
   "metadata": {},
   "source": [
    "##### 3) Encode categorical features"
   ]
  },
  {
   "cell_type": "code",
   "execution_count": 41,
   "metadata": {},
   "outputs": [],
   "source": [
    "Oe = OrdinalEncoder(handle_unknown='use_encoded_value', unknown_value=-1, dtype=int)\n",
    "X_train[cat_features] = Oe.fit_transform(X_train[cat_features])\n",
    "X_test[cat_features] = Oe.transform(X_test[cat_features])"
   ]
  },
  {
   "cell_type": "code",
   "execution_count": 42,
   "metadata": {
    "scrolled": true
   },
   "outputs": [
    {
     "name": "stdout",
     "output_type": "stream",
     "text": [
      "(813650, 32)\n",
      "(541867, 32)\n",
      "32\n",
      "['userID', 'surveyID', 'BIRTH', 'GENDER', 'REGION', 'TYPE', 'SQ4', 'SQ5', 'SQ6', 'SQ7', 'SQ8', 'A1', 'B1', 'B2', 'B3', 'B4', 'B5', 'TITLE', 'IR', 'LOI', 'CPI', 'RESRATE_round', 'TYPE_RES_RATE', '리워드/시간', '-(시간+난이도)_scaled', '대상지역', '대상자유형_일반인', '대상자유형_소비자', 'Points_earned_bins', 'Status_sum_log', 'RESRATE_S', 'RESRATE_S_round']\n"
     ]
    }
   ],
   "source": [
    "# SHAP 이전 컬럼 개수\n",
    "print(X_train.shape)\n",
    "print(X_test.shape)\n",
    "print(len(features))\n",
    "print(features)"
   ]
  },
  {
   "cell_type": "markdown",
   "metadata": {},
   "source": [
    "<font color=\"#CC3D3D\"><p>\n",
    "### **Feature selection using SHAP**"
   ]
  },
  {
   "cell_type": "code",
   "execution_count": 43,
   "metadata": {},
   "outputs": [
    {
     "name": "stdout",
     "output_type": "stream",
     "text": [
      "[LightGBM] [Info] Number of positive: 316565, number of negative: 497085\n",
      "[LightGBM] [Info] Auto-choosing row-wise multi-threading, the overhead of testing was 0.058130 seconds.\n",
      "You can set `force_row_wise=true` to remove the overhead.\n",
      "And if memory is not enough, you can set `force_col_wise=true`.\n",
      "[LightGBM] [Info] Total Bins 1972\n",
      "[LightGBM] [Info] Number of data points in the train set: 813650, number of used features: 32\n",
      "[LightGBM] [Info] [binary:BoostFromScore]: pavg=0.389068 -> initscore=-0.451232\n",
      "[LightGBM] [Info] Start training from score -0.451232\n"
     ]
    },
    {
     "data": {
      "image/png": "[encoded data removed]",
      "text/plain": [
       "<Figure size 800x950 with 1 Axes>"
      ]
     },
     "metadata": {},
     "output_type": "display_data"
    },
    {
     "data": {
      "text/html": [
       "\n",
       "  <div id=\"df-748e56c7-4fbd-4929-8fe9-be72ced85310\" class=\"colab-df-container\">\n",
       "    <div>\n",
       "<style scoped>\n",
       "    .dataframe tbody tr th:only-of-type {\n",
       "        vertical-align: middle;\n",
       "    }\n",
       "\n",
       "    .dataframe tbody tr th {\n",
       "        vertical-align: top;\n",
       "    }\n",
       "\n",
       "    .dataframe thead th {\n",
       "        text-align: right;\n",
       "    }\n",
       "</style>\n",
       "<table border=\"1\" class=\"dataframe\">\n",
       "  <thead>\n",
       "    <tr style=\"text-align: right;\">\n",
       "      <th></th>\n",
       "      <th>column_name</th>\n",
       "      <th>shap_importance</th>\n",
       "    </tr>\n",
       "  </thead>\n",
       "  <tbody>\n",
       "    <tr>\n",
       "      <th>28</th>\n",
       "      <td>Points_earned_bins</td>\n",
       "      <td>2.164838</td>\n",
       "    </tr>\n",
       "    <tr>\n",
       "      <th>29</th>\n",
       "      <td>Status_sum_log</td>\n",
       "      <td>1.301244</td>\n",
       "    </tr>\n",
       "    <tr>\n",
       "      <th>21</th>\n",
       "      <td>RESRATE_round</td>\n",
       "      <td>1.291911</td>\n",
       "    </tr>\n",
       "    <tr>\n",
       "      <th>30</th>\n",
       "      <td>RESRATE_S</td>\n",
       "      <td>0.277777</td>\n",
       "    </tr>\n",
       "    <tr>\n",
       "      <th>31</th>\n",
       "      <td>RESRATE_S_round</td>\n",
       "      <td>0.233517</td>\n",
       "    </tr>\n",
       "    <tr>\n",
       "      <th>25</th>\n",
       "      <td>대상지역</td>\n",
       "      <td>0.074215</td>\n",
       "    </tr>\n",
       "    <tr>\n",
       "      <th>17</th>\n",
       "      <td>TITLE</td>\n",
       "      <td>0.067787</td>\n",
       "    </tr>\n",
       "    <tr>\n",
       "      <th>5</th>\n",
       "      <td>TYPE</td>\n",
       "      <td>0.055885</td>\n",
       "    </tr>\n",
       "    <tr>\n",
       "      <th>1</th>\n",
       "      <td>surveyID</td>\n",
       "      <td>0.049974</td>\n",
       "    </tr>\n",
       "    <tr>\n",
       "      <th>22</th>\n",
       "      <td>TYPE_RES_RATE</td>\n",
       "      <td>0.042586</td>\n",
       "    </tr>\n",
       "    <tr>\n",
       "      <th>20</th>\n",
       "      <td>CPI</td>\n",
       "      <td>0.029654</td>\n",
       "    </tr>\n",
       "    <tr>\n",
       "      <th>24</th>\n",
       "      <td>-(시간+난이도)_scaled</td>\n",
       "      <td>0.027606</td>\n",
       "    </tr>\n",
       "    <tr>\n",
       "      <th>0</th>\n",
       "      <td>userID</td>\n",
       "      <td>0.022293</td>\n",
       "    </tr>\n",
       "    <tr>\n",
       "      <th>18</th>\n",
       "      <td>IR</td>\n",
       "      <td>0.021218</td>\n",
       "    </tr>\n",
       "    <tr>\n",
       "      <th>4</th>\n",
       "      <td>REGION</td>\n",
       "      <td>0.019411</td>\n",
       "    </tr>\n",
       "    <tr>\n",
       "      <th>3</th>\n",
       "      <td>GENDER</td>\n",
       "      <td>0.014534</td>\n",
       "    </tr>\n",
       "    <tr>\n",
       "      <th>19</th>\n",
       "      <td>LOI</td>\n",
       "      <td>0.014357</td>\n",
       "    </tr>\n",
       "    <tr>\n",
       "      <th>27</th>\n",
       "      <td>대상자유형_소비자</td>\n",
       "      <td>0.013370</td>\n",
       "    </tr>\n",
       "    <tr>\n",
       "      <th>23</th>\n",
       "      <td>리워드/시간</td>\n",
       "      <td>0.012909</td>\n",
       "    </tr>\n",
       "    <tr>\n",
       "      <th>2</th>\n",
       "      <td>BIRTH</td>\n",
       "      <td>0.010548</td>\n",
       "    </tr>\n",
       "    <tr>\n",
       "      <th>26</th>\n",
       "      <td>대상자유형_일반인</td>\n",
       "      <td>0.006602</td>\n",
       "    </tr>\n",
       "    <tr>\n",
       "      <th>8</th>\n",
       "      <td>SQ6</td>\n",
       "      <td>0.002127</td>\n",
       "    </tr>\n",
       "    <tr>\n",
       "      <th>11</th>\n",
       "      <td>A1</td>\n",
       "      <td>0.001615</td>\n",
       "    </tr>\n",
       "    <tr>\n",
       "      <th>15</th>\n",
       "      <td>B4</td>\n",
       "      <td>0.001190</td>\n",
       "    </tr>\n",
       "    <tr>\n",
       "      <th>16</th>\n",
       "      <td>B5</td>\n",
       "      <td>0.000862</td>\n",
       "    </tr>\n",
       "    <tr>\n",
       "      <th>14</th>\n",
       "      <td>B3</td>\n",
       "      <td>0.000688</td>\n",
       "    </tr>\n",
       "    <tr>\n",
       "      <th>6</th>\n",
       "      <td>SQ4</td>\n",
       "      <td>0.000592</td>\n",
       "    </tr>\n",
       "    <tr>\n",
       "      <th>13</th>\n",
       "      <td>B2</td>\n",
       "      <td>0.000283</td>\n",
       "    </tr>\n",
       "    <tr>\n",
       "      <th>7</th>\n",
       "      <td>SQ5</td>\n",
       "      <td>0.000119</td>\n",
       "    </tr>\n",
       "    <tr>\n",
       "      <th>9</th>\n",
       "      <td>SQ7</td>\n",
       "      <td>0.000060</td>\n",
       "    </tr>\n",
       "    <tr>\n",
       "      <th>10</th>\n",
       "      <td>SQ8</td>\n",
       "      <td>0.000000</td>\n",
       "    </tr>\n",
       "    <tr>\n",
       "      <th>12</th>\n",
       "      <td>B1</td>\n",
       "      <td>0.000000</td>\n",
       "    </tr>\n",
       "  </tbody>\n",
       "</table>\n",
       "</div>\n",
       "    <div class=\"colab-df-buttons\">\n",
       "      \n",
       "  <div class=\"colab-df-container\">\n",
       "    <button class=\"colab-df-convert\" onclick=\"convertToInteractive('df-748e56c7-4fbd-4929-8fe9-be72ced85310')\"\n",
       "            title=\"Convert this dataframe to an interactive table.\"\n",
       "            style=\"display:none;\">\n",
       "      \n",
       "  <svg xmlns=\"http://www.w3.org/2000/svg\" height=\"24px\" viewBox=\"0 -960 960 960\">\n",
       "    <path d=\"M120-120v-720h720v720H120Zm60-500h600v-160H180v160Zm220 220h160v-160H400v160Zm0 220h160v-160H400v160ZM180-400h160v-160H180v160Zm440 0h160v-160H620v160ZM180-180h160v-160H180v160Zm440 0h160v-160H620v160Z\"/>\n",
       "  </svg>\n",
       "    </button>\n",
       "    \n",
       "  <style>\n",
       "    .colab-df-container {\n",
       "      display:flex;\n",
       "      gap: 12px;\n",
       "    }\n",
       "\n",
       "    .colab-df-convert {\n",
       "      background-color: #E8F0FE;\n",
       "      border: none;\n",
       "      border-radius: 50%;\n",
       "      cursor: pointer;\n",
       "      display: none;\n",
       "      fill: #1967D2;\n",
       "      height: 32px;\n",
       "      padding: 0 0 0 0;\n",
       "      width: 32px;\n",
       "    }\n",
       "\n",
       "    .colab-df-convert:hover {\n",
       "      background-color: #E2EBFA;\n",
       "      box-shadow: 0px 1px 2px rgba(60, 64, 67, 0.3), 0px 1px 3px 1px rgba(60, 64, 67, 0.15);\n",
       "      fill: #174EA6;\n",
       "    }\n",
       "\n",
       "    .colab-df-buttons div {\n",
       "      margin-bottom: 4px;\n",
       "    }\n",
       "\n",
       "    [theme=dark] .colab-df-convert {\n",
       "      background-color: #3B4455;\n",
       "      fill: #D2E3FC;\n",
       "    }\n",
       "\n",
       "    [theme=dark] .colab-df-convert:hover {\n",
       "      background-color: #434B5C;\n",
       "      box-shadow: 0px 1px 3px 1px rgba(0, 0, 0, 0.15);\n",
       "      filter: drop-shadow(0px 1px 2px rgba(0, 0, 0, 0.3));\n",
       "      fill: #FFFFFF;\n",
       "    }\n",
       "  </style>\n",
       "\n",
       "    <script>\n",
       "      const buttonEl =\n",
       "        document.querySelector('#df-748e56c7-4fbd-4929-8fe9-be72ced85310 button.colab-df-convert');\n",
       "      buttonEl.style.display =\n",
       "        google.colab.kernel.accessAllowed ? 'block' : 'none';\n",
       "\n",
       "      async function convertToInteractive(key) {\n",
       "        const element = document.querySelector('#df-748e56c7-4fbd-4929-8fe9-be72ced85310');\n",
       "        const dataTable =\n",
       "          await google.colab.kernel.invokeFunction('convertToInteractive',\n",
       "                                                    [key], {});\n",
       "        if (!dataTable) return;\n",
       "\n",
       "        const docLinkHtml = 'Like what you see? Visit the ' +\n",
       "          '<a target=\"_blank\" href=https://colab.research.google.com/notebooks/data_table.ipynb>data table notebook</a>'\n",
       "          + ' to learn more about interactive tables.';\n",
       "        element.innerHTML = '';\n",
       "        dataTable['output_type'] = 'display_data';\n",
       "        await google.colab.output.renderOutput(dataTable, element);\n",
       "        const docLink = document.createElement('div');\n",
       "        docLink.innerHTML = docLinkHtml;\n",
       "        element.appendChild(docLink);\n",
       "      }\n",
       "    </script>\n",
       "  </div>\n",
       "  \n",
       "    </div>\n",
       "  </div>\n",
       "  "
      ],
      "text/plain": [
       "           column_name  shap_importance\n",
       "28  Points_earned_bins         2.164838\n",
       "29      Status_sum_log         1.301244\n",
       "21       RESRATE_round         1.291911\n",
       "30           RESRATE_S         0.277777\n",
       "31     RESRATE_S_round         0.233517\n",
       "25                대상지역         0.074215\n",
       "17               TITLE         0.067787\n",
       "5                 TYPE         0.055885\n",
       "1             surveyID         0.049974\n",
       "22       TYPE_RES_RATE         0.042586\n",
       "20                 CPI         0.029654\n",
       "24    -(시간+난이도)_scaled         0.027606\n",
       "0               userID         0.022293\n",
       "18                  IR         0.021218\n",
       "4               REGION         0.019411\n",
       "3               GENDER         0.014534\n",
       "19                 LOI         0.014357\n",
       "27           대상자유형_소비자         0.013370\n",
       "23              리워드/시간         0.012909\n",
       "2                BIRTH         0.010548\n",
       "26           대상자유형_일반인         0.006602\n",
       "8                  SQ6         0.002127\n",
       "11                  A1         0.001615\n",
       "15                  B4         0.001190\n",
       "16                  B5         0.000862\n",
       "14                  B3         0.000688\n",
       "6                  SQ4         0.000592\n",
       "13                  B2         0.000283\n",
       "7                  SQ5         0.000119\n",
       "9                  SQ7         0.000060\n",
       "10                 SQ8         0.000000\n",
       "12                  B1         0.000000"
      ]
     },
     "metadata": {},
     "output_type": "display_data"
    },
    {
     "data": {
      "image/png": "[encoded data removed]",
      "text/plain": [
       "<Figure size 1000x600 with 1 Axes>"
      ]
     },
     "metadata": {},
     "output_type": "display_data"
    }
   ],
   "source": [
    "# LightGBM 모델 학습\n",
    "\n",
    "X_importance = X_test\n",
    "\n",
    "model = LGBMClassifier(random_state=0).fit(X_train, y_train)\n",
    "\n",
    "# SHAP Explainer 생성 및 SHAP 값 계산\n",
    "explainer = shap.TreeExplainer(model)\n",
    "shap_values = explainer.shap_values(X_importance)\n",
    "\n",
    "# SHAP Summary Plot (막대그래프)\n",
    "shap.summary_plot(shap_values, X_importance, plot_type='bar')\n",
    "\n",
    "# SHAP 중요도 계산 (axis=0 수정)\n",
    "shap_sum = np.abs(shap_values).mean(axis=0)  # \n",
    "\n",
    "# 피처 중요도 데이터프레임 생성\n",
    "importance_df = pd.DataFrame({\n",
    "    'column_name': X_importance.columns,\n",
    "    'shap_importance': shap_sum\n",
    "}).sort_values('shap_importance', ascending=False)\n",
    "\n",
    "# 중요도 데이터프레임 출력\n",
    "display(importance_df)  # Jupyter 환경에서 시각적으로 확인\n",
    "# print(importance_df.head(10))  # 상위 10개만 출력\n",
    "\n",
    "# 중요도 시각화\n",
    "plt.figure(figsize=(10, 6))\n",
    "plt.barh(importance_df[\"column_name\"], importance_df[\"shap_importance\"], color='skyblue')\n",
    "plt.xlabel(\"SHAP Importance\")\n",
    "plt.ylabel(\"Features\")\n",
    "plt.title(\"Feature Importance based on SHAP\")\n",
    "plt.gca().invert_yaxis()  # 중요도가 높은 순으로 정렬\n",
    "plt.show()\n"
   ]
  },
  {
   "cell_type": "code",
   "execution_count": 47,
   "metadata": {},
   "outputs": [
    {
     "name": "stdout",
     "output_type": "stream",
     "text": [
      "(813650, 29)\n"
     ]
    }
   ],
   "source": [
    "# 지정된(SHAP_THRESHOLD) Shap feature 중요도 이상인 것만 선택\n",
    "SHAP_THRESHOLD = 0.0001  \n",
    "\n",
    "#32 -> 29\n",
    "features_selected = importance_df.query('shap_importance > @SHAP_THRESHOLD').column_name.tolist()\n",
    "X_train = X_train[features_selected]\n",
    "X_test = X_test[features_selected]\n",
    "\n",
    "print(X_train.shape)"
   ]
  },
  {
   "cell_type": "code",
   "execution_count": 48,
   "metadata": {},
   "outputs": [
    {
     "data": {
      "text/html": [
       "\n",
       "  <div id=\"df-6b32f19e-04ca-4a4e-bb33-cf0d5488ef91\" class=\"colab-df-container\">\n",
       "    <div>\n",
       "<style scoped>\n",
       "    .dataframe tbody tr th:only-of-type {\n",
       "        vertical-align: middle;\n",
       "    }\n",
       "\n",
       "    .dataframe tbody tr th {\n",
       "        vertical-align: top;\n",
       "    }\n",
       "\n",
       "    .dataframe thead th {\n",
       "        text-align: right;\n",
       "    }\n",
       "</style>\n",
       "<table border=\"1\" class=\"dataframe\">\n",
       "  <thead>\n",
       "    <tr style=\"text-align: right;\">\n",
       "      <th></th>\n",
       "      <th>Points_earned_bins</th>\n",
       "      <th>Status_sum_log</th>\n",
       "      <th>RESRATE_round</th>\n",
       "      <th>RESRATE_S</th>\n",
       "      <th>RESRATE_S_round</th>\n",
       "      <th>대상지역</th>\n",
       "      <th>TITLE</th>\n",
       "      <th>TYPE</th>\n",
       "      <th>surveyID</th>\n",
       "      <th>TYPE_RES_RATE</th>\n",
       "      <th>...</th>\n",
       "      <th>BIRTH</th>\n",
       "      <th>대상자유형_일반인</th>\n",
       "      <th>SQ6</th>\n",
       "      <th>A1</th>\n",
       "      <th>B4</th>\n",
       "      <th>B5</th>\n",
       "      <th>B3</th>\n",
       "      <th>SQ4</th>\n",
       "      <th>B2</th>\n",
       "      <th>SQ5</th>\n",
       "    </tr>\n",
       "  </thead>\n",
       "  <tbody>\n",
       "    <tr>\n",
       "      <th>0</th>\n",
       "      <td>32</td>\n",
       "      <td>1.934314</td>\n",
       "      <td>1.726479</td>\n",
       "      <td>1.861661</td>\n",
       "      <td>1.862850</td>\n",
       "      <td>1</td>\n",
       "      <td>0.632637</td>\n",
       "      <td>2</td>\n",
       "      <td>18</td>\n",
       "      <td>1.062459</td>\n",
       "      <td>...</td>\n",
       "      <td>-0.329418</td>\n",
       "      <td>1</td>\n",
       "      <td>-0.766743</td>\n",
       "      <td>0.783333</td>\n",
       "      <td>-0.841438</td>\n",
       "      <td>-0.402457</td>\n",
       "      <td>-0.267413</td>\n",
       "      <td>-0.487165</td>\n",
       "      <td>0.631978</td>\n",
       "      <td>0.565725</td>\n",
       "    </tr>\n",
       "    <tr>\n",
       "      <th>1</th>\n",
       "      <td>32</td>\n",
       "      <td>1.934314</td>\n",
       "      <td>1.726479</td>\n",
       "      <td>1.468151</td>\n",
       "      <td>1.469490</td>\n",
       "      <td>1</td>\n",
       "      <td>0.632637</td>\n",
       "      <td>2</td>\n",
       "      <td>19</td>\n",
       "      <td>1.062459</td>\n",
       "      <td>...</td>\n",
       "      <td>-0.329418</td>\n",
       "      <td>1</td>\n",
       "      <td>-0.766743</td>\n",
       "      <td>0.783333</td>\n",
       "      <td>-0.841438</td>\n",
       "      <td>-0.402457</td>\n",
       "      <td>-0.267413</td>\n",
       "      <td>-0.487165</td>\n",
       "      <td>0.631978</td>\n",
       "      <td>0.565725</td>\n",
       "    </tr>\n",
       "    <tr>\n",
       "      <th>2</th>\n",
       "      <td>32</td>\n",
       "      <td>1.934314</td>\n",
       "      <td>1.726479</td>\n",
       "      <td>-0.321342</td>\n",
       "      <td>-0.322485</td>\n",
       "      <td>1</td>\n",
       "      <td>0.632637</td>\n",
       "      <td>2</td>\n",
       "      <td>27</td>\n",
       "      <td>1.062459</td>\n",
       "      <td>...</td>\n",
       "      <td>-0.329418</td>\n",
       "      <td>1</td>\n",
       "      <td>-0.766743</td>\n",
       "      <td>0.783333</td>\n",
       "      <td>-0.841438</td>\n",
       "      <td>-0.402457</td>\n",
       "      <td>-0.267413</td>\n",
       "      <td>-0.487165</td>\n",
       "      <td>0.631978</td>\n",
       "      <td>0.565725</td>\n",
       "    </tr>\n",
       "    <tr>\n",
       "      <th>3</th>\n",
       "      <td>32</td>\n",
       "      <td>1.934314</td>\n",
       "      <td>1.726479</td>\n",
       "      <td>-0.631940</td>\n",
       "      <td>-0.633288</td>\n",
       "      <td>1</td>\n",
       "      <td>0.632637</td>\n",
       "      <td>2</td>\n",
       "      <td>28</td>\n",
       "      <td>1.062459</td>\n",
       "      <td>...</td>\n",
       "      <td>-0.329418</td>\n",
       "      <td>1</td>\n",
       "      <td>-0.766743</td>\n",
       "      <td>0.783333</td>\n",
       "      <td>-0.841438</td>\n",
       "      <td>-0.402457</td>\n",
       "      <td>-0.267413</td>\n",
       "      <td>-0.487165</td>\n",
       "      <td>0.631978</td>\n",
       "      <td>0.565725</td>\n",
       "    </tr>\n",
       "    <tr>\n",
       "      <th>4</th>\n",
       "      <td>32</td>\n",
       "      <td>1.934314</td>\n",
       "      <td>1.726479</td>\n",
       "      <td>-0.581945</td>\n",
       "      <td>-0.579869</td>\n",
       "      <td>1</td>\n",
       "      <td>0.632637</td>\n",
       "      <td>2</td>\n",
       "      <td>30</td>\n",
       "      <td>1.062459</td>\n",
       "      <td>...</td>\n",
       "      <td>-0.329418</td>\n",
       "      <td>1</td>\n",
       "      <td>-0.766743</td>\n",
       "      <td>0.783333</td>\n",
       "      <td>-0.841438</td>\n",
       "      <td>-0.402457</td>\n",
       "      <td>-0.267413</td>\n",
       "      <td>-0.487165</td>\n",
       "      <td>0.631978</td>\n",
       "      <td>0.565725</td>\n",
       "    </tr>\n",
       "    <tr>\n",
       "      <th>...</th>\n",
       "      <td>...</td>\n",
       "      <td>...</td>\n",
       "      <td>...</td>\n",
       "      <td>...</td>\n",
       "      <td>...</td>\n",
       "      <td>...</td>\n",
       "      <td>...</td>\n",
       "      <td>...</td>\n",
       "      <td>...</td>\n",
       "      <td>...</td>\n",
       "      <td>...</td>\n",
       "      <td>...</td>\n",
       "      <td>...</td>\n",
       "      <td>...</td>\n",
       "      <td>...</td>\n",
       "      <td>...</td>\n",
       "      <td>...</td>\n",
       "      <td>...</td>\n",
       "      <td>...</td>\n",
       "      <td>...</td>\n",
       "      <td>...</td>\n",
       "    </tr>\n",
       "    <tr>\n",
       "      <th>813645</th>\n",
       "      <td>33</td>\n",
       "      <td>0.310619</td>\n",
       "      <td>-0.327473</td>\n",
       "      <td>0.610627</td>\n",
       "      <td>0.609925</td>\n",
       "      <td>0</td>\n",
       "      <td>-1.453760</td>\n",
       "      <td>2</td>\n",
       "      <td>998</td>\n",
       "      <td>1.062459</td>\n",
       "      <td>...</td>\n",
       "      <td>0.244014</td>\n",
       "      <td>0</td>\n",
       "      <td>-0.766743</td>\n",
       "      <td>0.783333</td>\n",
       "      <td>-0.841438</td>\n",
       "      <td>-0.402457</td>\n",
       "      <td>-0.267413</td>\n",
       "      <td>-0.406041</td>\n",
       "      <td>0.631978</td>\n",
       "      <td>0.565725</td>\n",
       "    </tr>\n",
       "    <tr>\n",
       "      <th>813646</th>\n",
       "      <td>33</td>\n",
       "      <td>0.310619</td>\n",
       "      <td>-0.327473</td>\n",
       "      <td>1.056260</td>\n",
       "      <td>1.056704</td>\n",
       "      <td>0</td>\n",
       "      <td>-1.453760</td>\n",
       "      <td>2</td>\n",
       "      <td>1127</td>\n",
       "      <td>1.062459</td>\n",
       "      <td>...</td>\n",
       "      <td>0.244014</td>\n",
       "      <td>0</td>\n",
       "      <td>-0.766743</td>\n",
       "      <td>0.783333</td>\n",
       "      <td>-0.841438</td>\n",
       "      <td>-0.402457</td>\n",
       "      <td>-0.267413</td>\n",
       "      <td>-0.406041</td>\n",
       "      <td>0.631978</td>\n",
       "      <td>0.565725</td>\n",
       "    </tr>\n",
       "    <tr>\n",
       "      <th>813647</th>\n",
       "      <td>33</td>\n",
       "      <td>0.310619</td>\n",
       "      <td>-0.327473</td>\n",
       "      <td>0.596492</td>\n",
       "      <td>0.595356</td>\n",
       "      <td>0</td>\n",
       "      <td>-1.453760</td>\n",
       "      <td>2</td>\n",
       "      <td>1163</td>\n",
       "      <td>1.062459</td>\n",
       "      <td>...</td>\n",
       "      <td>0.244014</td>\n",
       "      <td>0</td>\n",
       "      <td>-0.766743</td>\n",
       "      <td>0.783333</td>\n",
       "      <td>-0.841438</td>\n",
       "      <td>-0.402457</td>\n",
       "      <td>-0.267413</td>\n",
       "      <td>-0.406041</td>\n",
       "      <td>0.631978</td>\n",
       "      <td>0.565725</td>\n",
       "    </tr>\n",
       "    <tr>\n",
       "      <th>813648</th>\n",
       "      <td>33</td>\n",
       "      <td>0.310619</td>\n",
       "      <td>-0.327473</td>\n",
       "      <td>1.461437</td>\n",
       "      <td>1.459777</td>\n",
       "      <td>0</td>\n",
       "      <td>-1.362866</td>\n",
       "      <td>2</td>\n",
       "      <td>1220</td>\n",
       "      <td>1.062459</td>\n",
       "      <td>...</td>\n",
       "      <td>0.244014</td>\n",
       "      <td>1</td>\n",
       "      <td>-0.766743</td>\n",
       "      <td>0.783333</td>\n",
       "      <td>-0.841438</td>\n",
       "      <td>-0.402457</td>\n",
       "      <td>-0.267413</td>\n",
       "      <td>-0.406041</td>\n",
       "      <td>0.631978</td>\n",
       "      <td>0.565725</td>\n",
       "    </tr>\n",
       "    <tr>\n",
       "      <th>813649</th>\n",
       "      <td>33</td>\n",
       "      <td>0.310619</td>\n",
       "      <td>-0.327473</td>\n",
       "      <td>0.161355</td>\n",
       "      <td>0.163145</td>\n",
       "      <td>1</td>\n",
       "      <td>0.632637</td>\n",
       "      <td>2</td>\n",
       "      <td>1223</td>\n",
       "      <td>1.062459</td>\n",
       "      <td>...</td>\n",
       "      <td>0.244014</td>\n",
       "      <td>1</td>\n",
       "      <td>-0.766743</td>\n",
       "      <td>0.783333</td>\n",
       "      <td>-0.841438</td>\n",
       "      <td>-0.402457</td>\n",
       "      <td>-0.267413</td>\n",
       "      <td>-0.406041</td>\n",
       "      <td>0.631978</td>\n",
       "      <td>0.565725</td>\n",
       "    </tr>\n",
       "  </tbody>\n",
       "</table>\n",
       "<p>813650 rows × 29 columns</p>\n",
       "</div>\n",
       "    <div class=\"colab-df-buttons\">\n",
       "      \n",
       "  <div class=\"colab-df-container\">\n",
       "    <button class=\"colab-df-convert\" onclick=\"convertToInteractive('df-6b32f19e-04ca-4a4e-bb33-cf0d5488ef91')\"\n",
       "            title=\"Convert this dataframe to an interactive table.\"\n",
       "            style=\"display:none;\">\n",
       "      \n",
       "  <svg xmlns=\"http://www.w3.org/2000/svg\" height=\"24px\" viewBox=\"0 -960 960 960\">\n",
       "    <path d=\"M120-120v-720h720v720H120Zm60-500h600v-160H180v160Zm220 220h160v-160H400v160Zm0 220h160v-160H400v160ZM180-400h160v-160H180v160Zm440 0h160v-160H620v160ZM180-180h160v-160H180v160Zm440 0h160v-160H620v160Z\"/>\n",
       "  </svg>\n",
       "    </button>\n",
       "    \n",
       "  <style>\n",
       "    .colab-df-container {\n",
       "      display:flex;\n",
       "      gap: 12px;\n",
       "    }\n",
       "\n",
       "    .colab-df-convert {\n",
       "      background-color: #E8F0FE;\n",
       "      border: none;\n",
       "      border-radius: 50%;\n",
       "      cursor: pointer;\n",
       "      display: none;\n",
       "      fill: #1967D2;\n",
       "      height: 32px;\n",
       "      padding: 0 0 0 0;\n",
       "      width: 32px;\n",
       "    }\n",
       "\n",
       "    .colab-df-convert:hover {\n",
       "      background-color: #E2EBFA;\n",
       "      box-shadow: 0px 1px 2px rgba(60, 64, 67, 0.3), 0px 1px 3px 1px rgba(60, 64, 67, 0.15);\n",
       "      fill: #174EA6;\n",
       "    }\n",
       "\n",
       "    .colab-df-buttons div {\n",
       "      margin-bottom: 4px;\n",
       "    }\n",
       "\n",
       "    [theme=dark] .colab-df-convert {\n",
       "      background-color: #3B4455;\n",
       "      fill: #D2E3FC;\n",
       "    }\n",
       "\n",
       "    [theme=dark] .colab-df-convert:hover {\n",
       "      background-color: #434B5C;\n",
       "      box-shadow: 0px 1px 3px 1px rgba(0, 0, 0, 0.15);\n",
       "      filter: drop-shadow(0px 1px 2px rgba(0, 0, 0, 0.3));\n",
       "      fill: #FFFFFF;\n",
       "    }\n",
       "  </style>\n",
       "\n",
       "    <script>\n",
       "      const buttonEl =\n",
       "        document.querySelector('#df-6b32f19e-04ca-4a4e-bb33-cf0d5488ef91 button.colab-df-convert');\n",
       "      buttonEl.style.display =\n",
       "        google.colab.kernel.accessAllowed ? 'block' : 'none';\n",
       "\n",
       "      async function convertToInteractive(key) {\n",
       "        const element = document.querySelector('#df-6b32f19e-04ca-4a4e-bb33-cf0d5488ef91');\n",
       "        const dataTable =\n",
       "          await google.colab.kernel.invokeFunction('convertToInteractive',\n",
       "                                                    [key], {});\n",
       "        if (!dataTable) return;\n",
       "\n",
       "        const docLinkHtml = 'Like what you see? Visit the ' +\n",
       "          '<a target=\"_blank\" href=https://colab.research.google.com/notebooks/data_table.ipynb>data table notebook</a>'\n",
       "          + ' to learn more about interactive tables.';\n",
       "        element.innerHTML = '';\n",
       "        dataTable['output_type'] = 'display_data';\n",
       "        await google.colab.output.renderOutput(dataTable, element);\n",
       "        const docLink = document.createElement('div');\n",
       "        docLink.innerHTML = docLinkHtml;\n",
       "        element.appendChild(docLink);\n",
       "      }\n",
       "    </script>\n",
       "  </div>\n",
       "  \n",
       "    </div>\n",
       "  </div>\n",
       "  "
      ],
      "text/plain": [
       "        Points_earned_bins  Status_sum_log  RESRATE_round  RESRATE_S  \\\n",
       "0                       32        1.934314       1.726479   1.861661   \n",
       "1                       32        1.934314       1.726479   1.468151   \n",
       "2                       32        1.934314       1.726479  -0.321342   \n",
       "3                       32        1.934314       1.726479  -0.631940   \n",
       "4                       32        1.934314       1.726479  -0.581945   \n",
       "...                    ...             ...            ...        ...   \n",
       "813645                  33        0.310619      -0.327473   0.610627   \n",
       "813646                  33        0.310619      -0.327473   1.056260   \n",
       "813647                  33        0.310619      -0.327473   0.596492   \n",
       "813648                  33        0.310619      -0.327473   1.461437   \n",
       "813649                  33        0.310619      -0.327473   0.161355   \n",
       "\n",
       "        RESRATE_S_round  대상지역     TITLE  TYPE  surveyID  TYPE_RES_RATE  ...  \\\n",
       "0              1.862850     1  0.632637     2        18       1.062459  ...   \n",
       "1              1.469490     1  0.632637     2        19       1.062459  ...   \n",
       "2             -0.322485     1  0.632637     2        27       1.062459  ...   \n",
       "3             -0.633288     1  0.632637     2        28       1.062459  ...   \n",
       "4             -0.579869     1  0.632637     2        30       1.062459  ...   \n",
       "...                 ...   ...       ...   ...       ...            ...  ...   \n",
       "813645         0.609925     0 -1.453760     2       998       1.062459  ...   \n",
       "813646         1.056704     0 -1.453760     2      1127       1.062459  ...   \n",
       "813647         0.595356     0 -1.453760     2      1163       1.062459  ...   \n",
       "813648         1.459777     0 -1.362866     2      1220       1.062459  ...   \n",
       "813649         0.163145     1  0.632637     2      1223       1.062459  ...   \n",
       "\n",
       "           BIRTH  대상자유형_일반인       SQ6        A1        B4        B5        B3  \\\n",
       "0      -0.329418          1 -0.766743  0.783333 -0.841438 -0.402457 -0.267413   \n",
       "1      -0.329418          1 -0.766743  0.783333 -0.841438 -0.402457 -0.267413   \n",
       "2      -0.329418          1 -0.766743  0.783333 -0.841438 -0.402457 -0.267413   \n",
       "3      -0.329418          1 -0.766743  0.783333 -0.841438 -0.402457 -0.267413   \n",
       "4      -0.329418          1 -0.766743  0.783333 -0.841438 -0.402457 -0.267413   \n",
       "...          ...        ...       ...       ...       ...       ...       ...   \n",
       "813645  0.244014          0 -0.766743  0.783333 -0.841438 -0.402457 -0.267413   \n",
       "813646  0.244014          0 -0.766743  0.783333 -0.841438 -0.402457 -0.267413   \n",
       "813647  0.244014          0 -0.766743  0.783333 -0.841438 -0.402457 -0.267413   \n",
       "813648  0.244014          1 -0.766743  0.783333 -0.841438 -0.402457 -0.267413   \n",
       "813649  0.244014          1 -0.766743  0.783333 -0.841438 -0.402457 -0.267413   \n",
       "\n",
       "             SQ4        B2       SQ5  \n",
       "0      -0.487165  0.631978  0.565725  \n",
       "1      -0.487165  0.631978  0.565725  \n",
       "2      -0.487165  0.631978  0.565725  \n",
       "3      -0.487165  0.631978  0.565725  \n",
       "4      -0.487165  0.631978  0.565725  \n",
       "...          ...       ...       ...  \n",
       "813645 -0.406041  0.631978  0.565725  \n",
       "813646 -0.406041  0.631978  0.565725  \n",
       "813647 -0.406041  0.631978  0.565725  \n",
       "813648 -0.406041  0.631978  0.565725  \n",
       "813649 -0.406041  0.631978  0.565725  \n",
       "\n",
       "[813650 rows x 29 columns]"
      ]
     },
     "execution_count": 48,
     "metadata": {},
     "output_type": "execute_result"
    }
   ],
   "source": [
    "X_train"
   ]
  },
  {
   "cell_type": "code",
   "execution_count": 49,
   "metadata": {},
   "outputs": [
    {
     "data": {
      "application/vnd.google.colaboratory.intrinsic+json": {
       "type": "string"
      },
      "text/plain": [
       "'import numpy as np\\n\\n# 전체 피처에 대해 sqrt 스케일링 적용\\narbitrary_number = 1\\nX_train = np.sqrt(X_train + arbitrary_number)\\nX_test = np.sqrt(X_test + arbitrary_number)\\n'"
      ]
     },
     "execution_count": 49,
     "metadata": {},
     "output_type": "execute_result"
    }
   ],
   "source": [
    "### 데이터 변환\n",
    "'''import numpy as np\n",
    "\n",
    "# 전체 피처에 대해 sqrt 스케일링 적용\n",
    "arbitrary_number = 1\n",
    "X_train = np.sqrt(X_train + arbitrary_number)\n",
    "X_test = np.sqrt(X_test + arbitrary_number)\n",
    "'''"
   ]
  },
  {
   "cell_type": "markdown",
   "metadata": {},
   "source": [
    "# **06. Model building**"
   ]
  },
  {
   "cell_type": "markdown",
   "metadata": {},
   "source": [
    "#### LGBM"
   ]
  },
  {
   "cell_type": "code",
   "execution_count": 50,
   "metadata": {
    "scrolled": true
   },
   "outputs": [
    {
     "name": "stderr",
     "output_type": "stream",
     "text": [
      "0it [00:00, ?it/s]"
     ]
    },
    {
     "name": "stdout",
     "output_type": "stream",
     "text": [
      "[LightGBM] [Info] Number of positive: 253249, number of negative: 397671\n",
      "[LightGBM] [Info] Auto-choosing row-wise multi-threading, the overhead of testing was 0.036646 seconds.\n",
      "You can set `force_row_wise=true` to remove the overhead.\n",
      "And if memory is not enough, you can set `force_col_wise=true`.\n",
      "[LightGBM] [Info] Total Bins 1941\n",
      "[LightGBM] [Info] Number of data points in the train set: 650920, number of used features: 29\n",
      "[LightGBM] [Info] [binary:BoostFromScore]: pavg=0.389063 -> initscore=-0.451252\n",
      "[LightGBM] [Info] Start training from score -0.451252\n",
      "0.8697843052909727\n"
     ]
    },
    {
     "name": "stderr",
     "output_type": "stream",
     "text": [
      "1it [03:34, 214.12s/it]"
     ]
    },
    {
     "name": "stdout",
     "output_type": "stream",
     "text": [
      "[LightGBM] [Info] Number of positive: 253255, number of negative: 397665\n",
      "[LightGBM] [Info] Auto-choosing row-wise multi-threading, the overhead of testing was 0.042995 seconds.\n",
      "You can set `force_row_wise=true` to remove the overhead.\n",
      "And if memory is not enough, you can set `force_col_wise=true`.\n",
      "[LightGBM] [Info] Total Bins 1935\n",
      "[LightGBM] [Info] Number of data points in the train set: 650920, number of used features: 29\n",
      "[LightGBM] [Info] [binary:BoostFromScore]: pavg=0.389072 -> initscore=-0.451213\n",
      "[LightGBM] [Info] Start training from score -0.451213\n",
      "0.8699256437042955\n"
     ]
    },
    {
     "name": "stderr",
     "output_type": "stream",
     "text": [
      "2it [07:14, 218.00s/it]"
     ]
    },
    {
     "name": "stdout",
     "output_type": "stream",
     "text": [
      "[LightGBM] [Info] Number of positive: 253497, number of negative: 397423\n",
      "[LightGBM] [Info] Auto-choosing row-wise multi-threading, the overhead of testing was 0.041414 seconds.\n",
      "You can set `force_row_wise=true` to remove the overhead.\n",
      "And if memory is not enough, you can set `force_col_wise=true`.\n",
      "[LightGBM] [Info] Total Bins 1938\n",
      "[LightGBM] [Info] Number of data points in the train set: 650920, number of used features: 29\n",
      "[LightGBM] [Info] [binary:BoostFromScore]: pavg=0.389444 -> initscore=-0.449649\n",
      "[LightGBM] [Info] Start training from score -0.449649\n",
      "0.8713205923923063\n"
     ]
    },
    {
     "name": "stderr",
     "output_type": "stream",
     "text": [
      "3it [10:51, 217.32s/it]"
     ]
    },
    {
     "name": "stdout",
     "output_type": "stream",
     "text": [
      "[LightGBM] [Info] Number of positive: 253073, number of negative: 397847\n",
      "[LightGBM] [Info] Auto-choosing col-wise multi-threading, the overhead of testing was 0.051539 seconds.\n",
      "You can set `force_col_wise=true` to remove the overhead.\n",
      "[LightGBM] [Info] Total Bins 1941\n",
      "[LightGBM] [Info] Number of data points in the train set: 650920, number of used features: 29\n",
      "[LightGBM] [Info] [binary:BoostFromScore]: pavg=0.388793 -> initscore=-0.452390\n",
      "[LightGBM] [Info] Start training from score -0.452390\n",
      "0.8709211577459596\n"
     ]
    },
    {
     "name": "stderr",
     "output_type": "stream",
     "text": [
      "4it [15:04, 231.44s/it]"
     ]
    },
    {
     "name": "stdout",
     "output_type": "stream",
     "text": [
      "[LightGBM] [Info] Number of positive: 253186, number of negative: 397734\n",
      "[LightGBM] [Info] Auto-choosing row-wise multi-threading, the overhead of testing was 0.038756 seconds.\n",
      "You can set `force_row_wise=true` to remove the overhead.\n",
      "And if memory is not enough, you can set `force_col_wise=true`.\n",
      "[LightGBM] [Info] Total Bins 1938\n",
      "[LightGBM] [Info] Number of data points in the train set: 650920, number of used features: 29\n",
      "[LightGBM] [Info] [binary:BoostFromScore]: pavg=0.388966 -> initscore=-0.451659\n",
      "[LightGBM] [Info] Start training from score -0.451659\n",
      "0.869421741535058\n"
     ]
    },
    {
     "name": "stderr",
     "output_type": "stream",
     "text": [
      "5it [18:42, 224.43s/it]"
     ]
    },
    {
     "name": "stdout",
     "output_type": "stream",
     "text": [
      "[1 1 1 ... 0 0 1]\n",
      "LGBMClassifier의 fold 평균 Accuracy는 0.8702746881337184\n"
     ]
    },
    {
     "name": "stderr",
     "output_type": "stream",
     "text": [
      "\n"
     ]
    }
   ],
   "source": [
    "model_lgbm = LGBMClassifier(n_estimators=4000, learning_rate=0.05, objective='binary', metric='binary_error', random_state=44)\n",
    "lgbm_pred = np.zeros((X_test.shape[0]))\n",
    "accuracy_list = []\n",
    "list_lgbm = []\n",
    "\n",
    "threshold = 0.5 \n",
    "spl = 5\n",
    "\n",
    "kf = KFold(n_splits=spl, shuffle=True, random_state=42)\n",
    "\n",
    "for tr_idx, val_idx in tqdm(kf.split(X_train, y_train)):\n",
    "    tr_x, tr_y = X_train.iloc[tr_idx], y_train.iloc[tr_idx]\n",
    "    val_x, val_y = X_train.iloc[val_idx], y_train.iloc[val_idx]\n",
    "    \n",
    "    model_lgbm.fit(tr_x, tr_y, eval_metric = 'accuracy')\n",
    "    pred = model_lgbm.predict(val_x)\n",
    "\n",
    "    accuracy = accuracy_score(val_y, pred)\n",
    "    accuracy_list.append(accuracy)\n",
    "    print(accuracy)\n",
    "    \n",
    "    sub_pred = np.array(model_lgbm.predict_proba(X_test)[:, 1])  # X_test에 대한 예측값 구하기\n",
    "    lgbm_pred += sub_pred\n",
    "\n",
    "# 최종 예측값 구하기 (5-fold의 평균값 사용)\n",
    "final_predictions_lgbm = (lgbm_pred / spl >= 0.495).astype(int)\n",
    "print(final_predictions_lgbm)\n",
    "print(f'{model_lgbm.__class__.__name__}의 fold 평균 Accuracy는 {np.mean(accuracy_list)}')"
   ]
  },
  {
   "cell_type": "markdown",
   "metadata": {},
   "source": [
    "#### XGB"
   ]
  },
  {
   "cell_type": "code",
   "execution_count": 51,
   "metadata": {},
   "outputs": [
    {
     "name": "stderr",
     "output_type": "stream",
     "text": [
      "0it [00:00, ?it/s]"
     ]
    },
    {
     "name": "stdout",
     "output_type": "stream",
     "text": [
      "0.859945922694033\n"
     ]
    },
    {
     "name": "stderr",
     "output_type": "stream",
     "text": [
      "1it [04:35, 275.42s/it]"
     ]
    },
    {
     "name": "stdout",
     "output_type": "stream",
     "text": [
      "0.8598414551711424\n"
     ]
    },
    {
     "name": "stderr",
     "output_type": "stream",
     "text": [
      "2it [09:20, 281.15s/it]"
     ]
    },
    {
     "name": "stdout",
     "output_type": "stream",
     "text": [
      "0.8607140662446998\n"
     ]
    },
    {
     "name": "stderr",
     "output_type": "stream",
     "text": [
      "3it [13:56, 278.82s/it]"
     ]
    },
    {
     "name": "stdout",
     "output_type": "stream",
     "text": [
      "0.8597369876482517\n"
     ]
    },
    {
     "name": "stderr",
     "output_type": "stream",
     "text": [
      "4it [18:33, 278.16s/it]"
     ]
    },
    {
     "name": "stdout",
     "output_type": "stream",
     "text": [
      "0.8582560068825662\n"
     ]
    },
    {
     "name": "stderr",
     "output_type": "stream",
     "text": [
      "5it [23:09, 277.97s/it]"
     ]
    },
    {
     "name": "stdout",
     "output_type": "stream",
     "text": [
      "[1 1 1 ... 0 0 1]\n",
      "XGBClassifier의 fold 평균 Accuracy는 0.8596988877281386\n"
     ]
    },
    {
     "name": "stderr",
     "output_type": "stream",
     "text": [
      "\n"
     ]
    }
   ],
   "source": [
    "from xgboost import XGBClassifier\n",
    "import numpy as np\n",
    "from sklearn.model_selection import KFold\n",
    "from sklearn.metrics import accuracy_score\n",
    "from tqdm import tqdm\n",
    "\n",
    "# 최적의 하이퍼파라미터 설정\n",
    "best_params = {\n",
    "    'n_estimators': 5000,\n",
    "    'max_depth': 15,\n",
    "    'learning_rate': 0.1,\n",
    "    'subsample': 0.95,\n",
    "    'colsample_bytree': 0.95,\n",
    "    'gamma': 1e-8,\n",
    "    'min_child_weight': 20,\n",
    "    'random_state': 0,\n",
    "    'eval_metric': 'error',\n",
    "    'objective': 'binary:logistic',\n",
    "    'verbosity': 0\n",
    "}\n",
    "\n",
    "model_xgb = XGBClassifier(**best_params)\n",
    "xgb_pred = np.zeros((X_test.shape[0]))\n",
    "accuracy_list = []\n",
    "spl = 5\n",
    "\n",
    "kf = KFold(n_splits=spl, shuffle=True, random_state=42)\n",
    "\n",
    "for tr_idx, val_idx in tqdm(kf.split(X_train, y_train)):\n",
    "    tr_x, tr_y = X_train.iloc[tr_idx], y_train.iloc[tr_idx]\n",
    "    val_x, val_y = X_train.iloc[val_idx], y_train.iloc[val_idx]\n",
    "    \n",
    "    model_xgb.fit(tr_x, tr_y)\n",
    "    pred = model_xgb.predict(val_x)\n",
    "\n",
    "    accuracy = accuracy_score(val_y, pred)\n",
    "    accuracy_list.append(accuracy)\n",
    "    print(accuracy)\n",
    "    \n",
    "    sub_pred = np.array(model_xgb.predict_proba(X_test)[:, 1])  # X_test에 대한 예측값 구하기\n",
    "    xgb_pred += sub_pred\n",
    "\n",
    "# 최종 예측값 구하기 (5-fold의 평균값 사용)\n",
    "final_predictions_xgb = (xgb_pred / spl >= 0.495).astype(int)\n",
    "print(final_predictions_xgb)\n",
    "print(f'{model_xgb.__class__.__name__}의 fold 평균 Accuracy는 {np.mean(accuracy_list)}')"
   ]
  },
  {
   "cell_type": "markdown",
   "metadata": {},
   "source": [
    "#### CAT"
   ]
  },
  {
   "cell_type": "code",
   "execution_count": 52,
   "metadata": {},
   "outputs": [
    {
     "name": "stderr",
     "output_type": "stream",
     "text": [
      "0it [00:00, ?it/s]"
     ]
    },
    {
     "name": "stdout",
     "output_type": "stream",
     "text": [
      "0:\tlearn: 0.8423739\ttotal: 109ms\tremaining: 1m 49s\n",
      "200:\tlearn: 0.8608984\ttotal: 10s\tremaining: 39.8s\n",
      "400:\tlearn: 0.8636453\ttotal: 19.6s\tremaining: 29.3s\n",
      "600:\tlearn: 0.8653368\ttotal: 29.3s\tremaining: 19.5s\n",
      "800:\tlearn: 0.8663399\ttotal: 38.9s\tremaining: 9.67s\n",
      "999:\tlearn: 0.8673047\ttotal: 48.4s\tremaining: 0us\n",
      "0.865759233085479\n"
     ]
    },
    {
     "name": "stderr",
     "output_type": "stream",
     "text": [
      "1it [00:49, 49.06s/it]"
     ]
    },
    {
     "name": "stdout",
     "output_type": "stream",
     "text": [
      "0:\tlearn: 0.8431773\ttotal: 86.2ms\tremaining: 1m 26s\n",
      "200:\tlearn: 0.8605866\ttotal: 9.94s\tremaining: 39.5s\n",
      "400:\tlearn: 0.8637774\ttotal: 19.6s\tremaining: 29.3s\n",
      "600:\tlearn: 0.8654673\ttotal: 29.4s\tremaining: 19.5s\n",
      "800:\tlearn: 0.8665919\ttotal: 39.1s\tremaining: 9.72s\n",
      "999:\tlearn: 0.8673938\ttotal: 48.8s\tremaining: 0us\n",
      "0.8660480550605297\n"
     ]
    },
    {
     "name": "stderr",
     "output_type": "stream",
     "text": [
      "2it [01:38, 49.27s/it]"
     ]
    },
    {
     "name": "stdout",
     "output_type": "stream",
     "text": [
      "0:\tlearn: 0.8428793\ttotal: 64.7ms\tremaining: 1m 4s\n",
      "200:\tlearn: 0.8603023\ttotal: 9.9s\tremaining: 39.4s\n",
      "400:\tlearn: 0.8634364\ttotal: 19.5s\tremaining: 29.1s\n",
      "600:\tlearn: 0.8651893\ttotal: 29.3s\tremaining: 19.5s\n",
      "800:\tlearn: 0.8664045\ttotal: 39s\tremaining: 9.69s\n",
      "999:\tlearn: 0.8672817\ttotal: 48.6s\tremaining: 0us\n",
      "0.8674614391937565\n"
     ]
    },
    {
     "name": "stderr",
     "output_type": "stream",
     "text": [
      "3it [02:27, 49.21s/it]"
     ]
    },
    {
     "name": "stdout",
     "output_type": "stream",
     "text": [
      "0:\tlearn: 0.8423170\ttotal: 60.2ms\tremaining: 1m\n",
      "200:\tlearn: 0.8606618\ttotal: 9.82s\tremaining: 39s\n",
      "400:\tlearn: 0.8638450\ttotal: 19.6s\tremaining: 29.2s\n",
      "600:\tlearn: 0.8654750\ttotal: 29.2s\tremaining: 19.4s\n",
      "800:\tlearn: 0.8663830\ttotal: 38.8s\tremaining: 9.64s\n",
      "999:\tlearn: 0.8671972\ttotal: 48.3s\tremaining: 0us\n",
      "0.8666810053462791\n"
     ]
    },
    {
     "name": "stderr",
     "output_type": "stream",
     "text": [
      "4it [03:16, 49.09s/it]"
     ]
    },
    {
     "name": "stdout",
     "output_type": "stream",
     "text": [
      "0:\tlearn: 0.8445738\ttotal: 64.3ms\tremaining: 1m 4s\n",
      "200:\tlearn: 0.8607617\ttotal: 9.83s\tremaining: 39.1s\n",
      "400:\tlearn: 0.8637037\ttotal: 19.4s\tremaining: 29s\n",
      "600:\tlearn: 0.8653890\ttotal: 29.2s\tremaining: 19.4s\n",
      "800:\tlearn: 0.8664429\ttotal: 39s\tremaining: 9.69s\n",
      "999:\tlearn: 0.8673954\ttotal: 48.6s\tremaining: 0us\n",
      "0.8656732010078043\n"
     ]
    },
    {
     "name": "stderr",
     "output_type": "stream",
     "text": [
      "5it [04:05, 49.14s/it]"
     ]
    },
    {
     "name": "stdout",
     "output_type": "stream",
     "text": [
      "[1 1 1 ... 0 0 1]\n",
      "CatBoostClassifier의 fold 평균 Accuracy는 0.8663245867387698\n"
     ]
    },
    {
     "name": "stderr",
     "output_type": "stream",
     "text": [
      "\n"
     ]
    }
   ],
   "source": [
    "model_cb = CatBoostClassifier(eval_metric= 'Accuracy',loss_function = \"CrossEntropy\", random_state=0, verbose = 200)\n",
    "lgbm_pred = np.zeros((X_test.shape[0]))\n",
    "accuracy_list = []\n",
    "list_lgbm = []\n",
    "spl = 5\n",
    "\n",
    "kf = KFold(n_splits=spl, shuffle=True, random_state=42)\n",
    "\n",
    "for tr_idx, val_idx in tqdm(kf.split(X_train, y_train)):\n",
    "    tr_x, tr_y = X_train.iloc[tr_idx], y_train.iloc[tr_idx]\n",
    "    val_x, val_y = X_train.iloc[val_idx], y_train.iloc[val_idx]\n",
    "    \n",
    "    model_cb.fit(tr_x, tr_y)\n",
    "    pred = model_cb.predict(val_x)\n",
    "\n",
    "    accuracy = accuracy_score(val_y, pred)\n",
    "    accuracy_list.append(accuracy)\n",
    "    print(accuracy)\n",
    "    \n",
    "    sub_pred = np.array(model_cb.predict_proba(X_test)[:, 1])  # X_test에 대한 예측값 구하기\n",
    "    lgbm_pred += sub_pred\n",
    "\n",
    "# 최종 예측값 구하기 (5-fold의 평균값 사용)\n",
    "final_predictions_cb = (lgbm_pred / spl >= 0.495).astype(int)\n",
    "print(final_predictions_cb)\n",
    "print(f'{model_cb.__class__.__name__}의 fold 평균 Accuracy는 {np.mean(accuracy_list)}')"
   ]
  },
  {
   "cell_type": "code",
   "execution_count": 53,
   "metadata": {},
   "outputs": [
    {
     "name": "stdout",
     "output_type": "stream",
     "text": [
      "[1 1 1 ... 0 0 1]\n"
     ]
    }
   ],
   "source": [
    "# 세 모델의 예측값을 하드보팅\n",
    "avg_predictions = (final_predictions_lgbm + final_predictions_xgb + final_predictions_cb) / 3\n",
    "\n",
    "threshold = 0.5  # 임계값 설정\n",
    "final_predictions = np.where(avg_predictions >= threshold, 1, 0)\n",
    "\n",
    "print(final_predictions)"
   ]
  },
  {
   "cell_type": "code",
   "execution_count": 54,
   "metadata": {},
   "outputs": [
    {
     "data": {
      "text/plain": [
       "541867"
      ]
     },
     "execution_count": 54,
     "metadata": {},
     "output_type": "execute_result"
    }
   ],
   "source": [
    "len(final_predictions)"
   ]
  },
  {
   "cell_type": "code",
   "execution_count": 55,
   "metadata": {},
   "outputs": [
    {
     "name": "stdout",
     "output_type": "stream",
     "text": [
      "'oof_hardvoting_submission)_02021346.csv' is ready to submit.\n"
     ]
    }
   ],
   "source": [
    "t = pd.Timestamp.now()\n",
    "fname = f\"oof_hardvoting_submission)_{t.month:02}{t.day:02}{t.hour:02}{t.minute:02}.csv\"\n",
    "pd.DataFrame({'ID': ID_test, 'STATUS': final_predictions}).to_csv(fname, index=False)\n",
    "print(f\"'{fname}' is ready to submit.\")"
   ]
  }
 ],
 "metadata": {
  "kernelspec": {
   "display_name": "Python 3",
   "language": "python",
   "name": "python3"
  },
  "language_info": {
   "codemirror_mode": {
    "name": "ipython",
    "version": 3
   },
   "file_extension": ".py",
   "mimetype": "text/x-python",
   "name": "python",
   "nbconvert_exporter": "python",
   "pygments_lexer": "ipython3",
   "version": "3.10.12"
  }
 },
 "nbformat": 4,
 "nbformat_minor": 4
}
