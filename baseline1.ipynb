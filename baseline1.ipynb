{
 "cells": [
  {
   "cell_type": "markdown",
   "metadata": {
    "papermill": {
     "duration": 0.008057,
     "end_time": "2023-12-11T12:09:41.727242",
     "exception": false,
     "start_time": "2023-12-11T12:09:41.719185",
     "status": "completed"
    },
    "tags": []
   },
   "source": [
    "<font color='tomato'><font color=\"#CC3D3D\"><p>\n",
    "# Baseline Code (v1.0)"
   ]
  },
  {
   "cell_type": "markdown",
   "metadata": {
    "papermill": {
     "duration": 0.007344,
     "end_time": "2023-12-11T12:09:41.742361",
     "exception": false,
     "start_time": "2023-12-11T12:09:41.735017",
     "status": "completed"
    },
    "tags": []
   },
   "source": [
    "- **문제**   \n",
    "*\"각 패널에게 어떤 온라인 설문조사를 요청해야 응답할까?\"*    \n",
    "**KML Challenge 2023F**에서는 이 문제를 가장 잘 해결할 수 있는 예측 모델을 개발하는 것이 목적\n",
    "- **평가척도**   \n",
    "정확도(Accuracy)\n",
    "- **데이터**   \n",
    "   - train.csv(학습데이터), test.csv(평가테이터)\n",
    "   - 각 데이터 포인트는 패널 정보, 설문정보, 응답여부(STATUS)로 구성"
   ]
  },
  {
   "cell_type": "markdown",
   "metadata": {
    "papermill": {
     "duration": 0.007459,
     "end_time": "2023-12-11T12:09:41.757454",
     "exception": false,
     "start_time": "2023-12-11T12:09:41.749995",
     "status": "completed"
    },
    "tags": []
   },
   "source": [
    "### Imports"
   ]
  },
  {
   "cell_type": "code",
   "execution_count": null,
   "metadata": {
    "execution": {
     "iopub.execute_input": "2023-12-11T12:09:41.775267Z",
     "iopub.status.busy": "2023-12-11T12:09:41.774786Z",
     "iopub.status.idle": "2023-12-11T12:09:46.09585Z",
     "shell.execute_reply": "2023-12-11T12:09:46.094574Z"
    },
    "papermill": {
     "duration": 4.333282,
     "end_time": "2023-12-11T12:09:46.0985",
     "exception": false,
     "start_time": "2023-12-11T12:09:41.765218",
     "status": "completed"
    },
    "tags": []
   },
   "outputs": [],
   "source": [
    "import pandas as pd\n",
    "import numpy as np\n",
    "import os\n",
    "import random\n",
    "import pickle\n",
    "import gc\n",
    "import re\n",
    "import warnings; warnings.filterwarnings(\"ignore\")\n",
    "import seaborn as sns\n",
    "import matplotlib.pylab as plt\n",
    "from matplotlib import font_manager, rc\n",
    "%matplotlib inline\n",
    "from sklearn.impute import SimpleImputer \n",
    "from sklearn.preprocessing import StandardScaler\n",
    "from sklearn.preprocessing import OrdinalEncoder\n",
    "from lightgbm import LGBMClassifier\n",
    "from catboost import CatBoostClassifier"
   ]
  },
  {
   "cell_type": "markdown",
   "metadata": {
    "papermill": {
     "duration": 0.007391,
     "end_time": "2023-12-11T12:09:46.113997",
     "exception": false,
     "start_time": "2023-12-11T12:09:46.106606",
     "status": "completed"
    },
    "tags": []
   },
   "source": [
    "### Data Loading"
   ]
  },
  {
   "cell_type": "code",
   "execution_count": null,
   "metadata": {
    "execution": {
     "iopub.execute_input": "2023-12-11T12:09:46.131546Z",
     "iopub.status.busy": "2023-12-11T12:09:46.131188Z",
     "iopub.status.idle": "2023-12-11T12:09:55.976553Z",
     "shell.execute_reply": "2023-12-11T12:09:55.97548Z"
    },
    "papermill": {
     "duration": 9.856697,
     "end_time": "2023-12-11T12:09:55.978973",
     "exception": false,
     "start_time": "2023-12-11T12:09:46.122276",
     "status": "completed"
    },
    "scrolled": true,
    "tags": []
   },
   "outputs": [],
   "source": [
    "train = pd.read_csv('/kaggle/input/kml-challenge-2023f/train.csv', encoding='cp949')\n",
    "test = pd.read_csv('/kaggle/input/kml-challenge-2023f/test.csv', encoding='cp949')"
   ]
  },
  {
   "cell_type": "code",
   "execution_count": null,
   "metadata": {
    "execution": {
     "iopub.execute_input": "2023-12-11T12:09:55.99534Z",
     "iopub.status.busy": "2023-12-11T12:09:55.994991Z",
     "iopub.status.idle": "2023-12-11T12:09:56.348898Z",
     "shell.execute_reply": "2023-12-11T12:09:56.347737Z"
    },
    "papermill": {
     "duration": 0.364594,
     "end_time": "2023-12-11T12:09:56.351107",
     "exception": false,
     "start_time": "2023-12-11T12:09:55.986513",
     "status": "completed"
    },
    "tags": []
   },
   "outputs": [],
   "source": [
    "train"
   ]
  },
  {
   "cell_type": "markdown",
   "metadata": {
    "papermill": {
     "duration": 0.008288,
     "end_time": "2023-12-11T12:09:56.368685",
     "exception": false,
     "start_time": "2023-12-11T12:09:56.360397",
     "status": "completed"
    },
    "tags": []
   },
   "source": [
    "### 데이터 설명\n",
    "- **패널(Panel) 데이터**\n",
    "  - userID: 패널 ID\n",
    "  - BIRTH: 생일(연도)\n",
    "  - GENDER: 1(남자) 2(여자)\n",
    "  - REGION: 거주지역\n",
    "  - TYPE: 패널 구분\n",
    "  - SQ1 ~ DQ7: 패널 가입 시 설문한 데이터로 각 필드에 대해서는 [상세설명](https://docs.google.com/spreadsheets/d/1pY6MYTSkyHrGLmMTU8tX_xlD8fPut6Ob/edit?usp=sharing&ouid=107121563618260277687&rtpof=true&sd=true) 참조\n",
    "- **설문(Survey) 데이터**\n",
    "  - surveyID: 설문 ID\n",
    "  - TITLE: 설문 제목\n",
    "  - IR: 난이도(응답가능성, 100이 최고)\n",
    "  - LOI: 설문하는데 걸리는 시간 (분단위)\n",
    "  - CATEGORIES: 설문 분류\n",
    "  - CPI: 패널 응답 리워드 포인트(1P~)\n",
    "- **응답(Response) 데이터**\n",
    "  - STATUS: 응답여부 (Target)\n",
    "  - (test 데이터의) ID: submission을 식별하기 위한 ID로 사용"
   ]
  },
  {
   "cell_type": "markdown",
   "metadata": {
    "papermill": {
     "duration": 0.007905,
     "end_time": "2023-12-11T12:09:56.384933",
     "exception": false,
     "start_time": "2023-12-11T12:09:56.377028",
     "status": "completed"
    },
    "tags": []
   },
   "source": [
    "### Data Preprocessing"
   ]
  },
  {
   "cell_type": "code",
   "execution_count": null,
   "metadata": {
    "execution": {
     "iopub.execute_input": "2023-12-11T12:09:56.403265Z",
     "iopub.status.busy": "2023-12-11T12:09:56.40285Z",
     "iopub.status.idle": "2023-12-11T12:09:58.035513Z",
     "shell.execute_reply": "2023-12-11T12:09:58.033471Z"
    },
    "papermill": {
     "duration": 1.645054,
     "end_time": "2023-12-11T12:09:58.038311",
     "exception": false,
     "start_time": "2023-12-11T12:09:56.393257",
     "status": "completed"
    },
    "tags": []
   },
   "outputs": [],
   "source": [
    "# 결측값 비율이 30% 이하인 column만 사용\n",
    "features = []\n",
    "for f in train.columns:\n",
    "    if train[f].isnull().sum()/train.shape[0] <= 0.3:\n",
    "        print(f, '\\t', train[f].nunique(), '\\t', train[f].isnull().sum()/train.shape[0])\n",
    "        features.append(f)"
   ]
  },
  {
   "cell_type": "code",
   "execution_count": null,
   "metadata": {
    "execution": {
     "iopub.execute_input": "2023-12-11T12:09:58.05763Z",
     "iopub.status.busy": "2023-12-11T12:09:58.057292Z",
     "iopub.status.idle": "2023-12-11T12:09:58.064325Z",
     "shell.execute_reply": "2023-12-11T12:09:58.062464Z"
    },
    "papermill": {
     "duration": 0.019618,
     "end_time": "2023-12-11T12:09:58.066828",
     "exception": false,
     "start_time": "2023-12-11T12:09:58.04721",
     "status": "completed"
    },
    "tags": []
   },
   "outputs": [],
   "source": [
    "# 불필요한 ID들은 제외. SQ1 ~ SQ3는 GENDER, BIRTH, REGION과 중복이어서 제외!\n",
    "features.remove('userID')\n",
    "features.remove('surveyID')\n",
    "features.remove('STATUS')\n",
    "features.remove('SQ1')\n",
    "features.remove('SQ2')\n",
    "features.remove('SQ3')"
   ]
  },
  {
   "cell_type": "code",
   "execution_count": null,
   "metadata": {
    "execution": {
     "iopub.execute_input": "2023-12-11T12:09:58.085966Z",
     "iopub.status.busy": "2023-12-11T12:09:58.084867Z",
     "iopub.status.idle": "2023-12-11T12:09:58.127253Z",
     "shell.execute_reply": "2023-12-11T12:09:58.126542Z"
    },
    "papermill": {
     "duration": 0.054119,
     "end_time": "2023-12-11T12:09:58.129482",
     "exception": false,
     "start_time": "2023-12-11T12:09:58.075363",
     "status": "completed"
    },
    "tags": []
   },
   "outputs": [],
   "source": [
    "# 거주 주택 형태: 1/2/3/4/5/6/97이 정상값\n",
    "train.SQ4.value_counts()"
   ]
  },
  {
   "cell_type": "code",
   "execution_count": null,
   "metadata": {
    "execution": {
     "iopub.execute_input": "2023-12-11T12:09:58.150265Z",
     "iopub.status.busy": "2023-12-11T12:09:58.149063Z",
     "iopub.status.idle": "2023-12-11T12:09:58.761535Z",
     "shell.execute_reply": "2023-12-11T12:09:58.760579Z"
    },
    "papermill": {
     "duration": 0.625589,
     "end_time": "2023-12-11T12:09:58.764107",
     "exception": false,
     "start_time": "2023-12-11T12:09:58.138518",
     "status": "completed"
    },
    "tags": []
   },
   "outputs": [],
   "source": [
    "def handle_profile(x):\n",
    "    if x in ['1', '2', '3', '4', '5', '6']:\n",
    "        return int(x)\n",
    "    elif x in ['1,', '2,', '3,', '4,', '5,', '6,']:\n",
    "        return int(x[0])\n",
    "    else:\n",
    "        return 99\n",
    "\n",
    "train.SQ4 = train.SQ4.apply(handle_profile)\n",
    "test.SQ4 = test.SQ4.apply(handle_profile)"
   ]
  },
  {
   "cell_type": "code",
   "execution_count": null,
   "metadata": {
    "execution": {
     "iopub.execute_input": "2023-12-11T12:09:58.783244Z",
     "iopub.status.busy": "2023-12-11T12:09:58.782797Z",
     "iopub.status.idle": "2023-12-11T12:09:58.821463Z",
     "shell.execute_reply": "2023-12-11T12:09:58.820271Z"
    },
    "papermill": {
     "duration": 0.051059,
     "end_time": "2023-12-11T12:09:58.823952",
     "exception": false,
     "start_time": "2023-12-11T12:09:58.772893",
     "status": "completed"
    },
    "tags": []
   },
   "outputs": [],
   "source": [
    "# 최종학력: 1/2/3/4 정상값\n",
    "train.SQ5.value_counts()[:20]"
   ]
  },
  {
   "cell_type": "code",
   "execution_count": null,
   "metadata": {
    "execution": {
     "iopub.execute_input": "2023-12-11T12:09:58.844307Z",
     "iopub.status.busy": "2023-12-11T12:09:58.843226Z",
     "iopub.status.idle": "2023-12-11T12:09:59.384116Z",
     "shell.execute_reply": "2023-12-11T12:09:59.383406Z"
    },
    "papermill": {
     "duration": 0.553187,
     "end_time": "2023-12-11T12:09:59.386383",
     "exception": false,
     "start_time": "2023-12-11T12:09:58.833196",
     "status": "completed"
    },
    "tags": []
   },
   "outputs": [],
   "source": [
    "def handle_profile(x):\n",
    "    if x in ['1', '2', '3', '4']:\n",
    "        return int(x)\n",
    "    elif x in ['1.0', '2.0', '3.0', '4.0']:\n",
    "        return int(x[0])\n",
    "    else:\n",
    "        return 99\n",
    "\n",
    "train.SQ5 = train.SQ5.apply(handle_profile)\n",
    "test.SQ5 = test.SQ5.apply(handle_profile)"
   ]
  },
  {
   "cell_type": "code",
   "execution_count": null,
   "metadata": {
    "execution": {
     "iopub.execute_input": "2023-12-11T12:09:59.405962Z",
     "iopub.status.busy": "2023-12-11T12:09:59.40545Z",
     "iopub.status.idle": "2023-12-11T12:09:59.441139Z",
     "shell.execute_reply": "2023-12-11T12:09:59.440451Z"
    },
    "papermill": {
     "duration": 0.047612,
     "end_time": "2023-12-11T12:09:59.442902",
     "exception": false,
     "start_time": "2023-12-11T12:09:59.39529",
     "status": "completed"
    },
    "tags": []
   },
   "outputs": [],
   "source": [
    "# 결혼여부: 1/2/97 정상값\n",
    "train.SQ6.value_counts()"
   ]
  },
  {
   "cell_type": "code",
   "execution_count": null,
   "metadata": {
    "execution": {
     "iopub.execute_input": "2023-12-11T12:09:59.464352Z",
     "iopub.status.busy": "2023-12-11T12:09:59.463029Z",
     "iopub.status.idle": "2023-12-11T12:09:59.992365Z",
     "shell.execute_reply": "2023-12-11T12:09:59.99118Z"
    },
    "papermill": {
     "duration": 0.542385,
     "end_time": "2023-12-11T12:09:59.995044",
     "exception": false,
     "start_time": "2023-12-11T12:09:59.452659",
     "status": "completed"
    },
    "tags": []
   },
   "outputs": [],
   "source": [
    "def handle_profile(x):\n",
    "    if x in ['1', '2']:\n",
    "        return int(x)\n",
    "    elif x in ['1,', '2,']:\n",
    "        return int(x[0])\n",
    "    else:\n",
    "        return 99\n",
    "\n",
    "train.SQ6 = train.SQ6.apply(handle_profile)\n",
    "test.SQ6 = test.SQ6.apply(handle_profile)"
   ]
  },
  {
   "cell_type": "code",
   "execution_count": null,
   "metadata": {
    "execution": {
     "iopub.execute_input": "2023-12-11T12:10:00.076149Z",
     "iopub.status.busy": "2023-12-11T12:10:00.075775Z",
     "iopub.status.idle": "2023-12-11T12:10:00.117537Z",
     "shell.execute_reply": "2023-12-11T12:10:00.116113Z"
    },
    "papermill": {
     "duration": 0.055253,
     "end_time": "2023-12-11T12:10:00.12056",
     "exception": false,
     "start_time": "2023-12-11T12:10:00.065307",
     "status": "completed"
    },
    "tags": []
   },
   "outputs": [],
   "source": [
    "# 자녀 정보: 1~16/99 정상값\n",
    "train.SQ7.value_counts()"
   ]
  },
  {
   "cell_type": "code",
   "execution_count": null,
   "metadata": {
    "execution": {
     "iopub.execute_input": "2023-12-11T12:10:00.141829Z",
     "iopub.status.busy": "2023-12-11T12:10:00.141459Z",
     "iopub.status.idle": "2023-12-11T12:10:01.128694Z",
     "shell.execute_reply": "2023-12-11T12:10:01.127464Z"
    },
    "papermill": {
     "duration": 1.000969,
     "end_time": "2023-12-11T12:10:01.13122",
     "exception": false,
     "start_time": "2023-12-11T12:10:00.130251",
     "status": "completed"
    },
    "tags": []
   },
   "outputs": [],
   "source": [
    "value1 = pd.Series(range(1,17)).apply(lambda x: str(x)).tolist()\n",
    "value2 = pd.Series(np.arange(1.0,17.0)).apply(lambda x: str(x)).tolist()\n",
    "def handle_profile(x):\n",
    "    if x in value1:\n",
    "        return int(x)\n",
    "    elif x in value2:\n",
    "        return int(x[0])\n",
    "    else:\n",
    "        return 99\n",
    "\n",
    "train.SQ7 = train.SQ7.apply(handle_profile)\n",
    "test.SQ7 = test.SQ7.apply(handle_profile)"
   ]
  },
  {
   "cell_type": "code",
   "execution_count": null,
   "metadata": {
    "execution": {
     "iopub.execute_input": "2023-12-11T12:10:01.153825Z",
     "iopub.status.busy": "2023-12-11T12:10:01.15298Z",
     "iopub.status.idle": "2023-12-11T12:10:01.191859Z",
     "shell.execute_reply": "2023-12-11T12:10:01.190642Z"
    },
    "papermill": {
     "duration": 0.052754,
     "end_time": "2023-12-11T12:10:01.19433",
     "exception": false,
     "start_time": "2023-12-11T12:10:01.141576",
     "status": "completed"
    },
    "tags": []
   },
   "outputs": [],
   "source": [
    "# 가족수: 1/2/3/4/5 정상값\n",
    "train.SQ8.value_counts()[:10]"
   ]
  },
  {
   "cell_type": "code",
   "execution_count": null,
   "metadata": {
    "execution": {
     "iopub.execute_input": "2023-12-11T12:10:01.215461Z",
     "iopub.status.busy": "2023-12-11T12:10:01.215086Z",
     "iopub.status.idle": "2023-12-11T12:10:01.694516Z",
     "shell.execute_reply": "2023-12-11T12:10:01.692997Z"
    },
    "papermill": {
     "duration": 0.492537,
     "end_time": "2023-12-11T12:10:01.697006",
     "exception": false,
     "start_time": "2023-12-11T12:10:01.204469",
     "status": "completed"
    },
    "tags": []
   },
   "outputs": [],
   "source": [
    "def handle_profile(x):\n",
    "    if x in ['1', '2', '3', '4', '5']:\n",
    "        return int(x)\n",
    "    else:\n",
    "        return 99\n",
    "\n",
    "train.SQ8 = train.SQ8.apply(handle_profile)\n",
    "test.SQ8 = test.SQ8.apply(handle_profile)"
   ]
  },
  {
   "cell_type": "code",
   "execution_count": null,
   "metadata": {
    "execution": {
     "iopub.execute_input": "2023-12-11T12:10:01.71853Z",
     "iopub.status.busy": "2023-12-11T12:10:01.71822Z",
     "iopub.status.idle": "2023-12-11T12:10:01.75857Z",
     "shell.execute_reply": "2023-12-11T12:10:01.757235Z"
    },
    "papermill": {
     "duration": 0.053413,
     "end_time": "2023-12-11T12:10:01.76086",
     "exception": false,
     "start_time": "2023-12-11T12:10:01.707447",
     "status": "completed"
    },
    "tags": []
   },
   "outputs": [],
   "source": [
    "# 최근 구입/렌트 가전제품: 1~22/99 정상값\n",
    "train.A1.value_counts()"
   ]
  },
  {
   "cell_type": "code",
   "execution_count": null,
   "metadata": {
    "execution": {
     "iopub.execute_input": "2023-12-11T12:10:01.78217Z",
     "iopub.status.busy": "2023-12-11T12:10:01.781836Z",
     "iopub.status.idle": "2023-12-11T12:10:02.478916Z",
     "shell.execute_reply": "2023-12-11T12:10:02.477212Z"
    },
    "papermill": {
     "duration": 0.711013,
     "end_time": "2023-12-11T12:10:02.481852",
     "exception": false,
     "start_time": "2023-12-11T12:10:01.770839",
     "status": "completed"
    },
    "tags": []
   },
   "outputs": [],
   "source": [
    "values = pd.Series(range(1,23)).apply(lambda x: str(x)).tolist()\n",
    "def handle_profile(x):    \n",
    "    if x in values:\n",
    "        return int(x)\n",
    "    else:\n",
    "        return 99\n",
    "\n",
    "train.A1 = train.A1.apply(handle_profile)\n",
    "test.A1 = test.A1.apply(handle_profile)"
   ]
  },
  {
   "cell_type": "code",
   "execution_count": null,
   "metadata": {
    "execution": {
     "iopub.execute_input": "2023-12-11T12:10:02.50377Z",
     "iopub.status.busy": "2023-12-11T12:10:02.503311Z",
     "iopub.status.idle": "2023-12-11T12:10:02.541237Z",
     "shell.execute_reply": "2023-12-11T12:10:02.540259Z"
    },
    "papermill": {
     "duration": 0.05123,
     "end_time": "2023-12-11T12:10:02.543139",
     "exception": false,
     "start_time": "2023-12-11T12:10:02.491909",
     "status": "completed"
    },
    "tags": []
   },
   "outputs": [],
   "source": [
    "# 휴대폰 통신망 종류: 1~8/99 정상값\n",
    "train.B1.value_counts()"
   ]
  },
  {
   "cell_type": "code",
   "execution_count": null,
   "metadata": {
    "execution": {
     "iopub.execute_input": "2023-12-11T12:10:02.564652Z",
     "iopub.status.busy": "2023-12-11T12:10:02.564275Z",
     "iopub.status.idle": "2023-12-11T12:10:03.109255Z",
     "shell.execute_reply": "2023-12-11T12:10:03.108004Z"
    },
    "papermill": {
     "duration": 0.55849,
     "end_time": "2023-12-11T12:10:03.111728",
     "exception": false,
     "start_time": "2023-12-11T12:10:02.553238",
     "status": "completed"
    },
    "tags": []
   },
   "outputs": [],
   "source": [
    "def handle_profile(x):    \n",
    "    if x in ['1']:\n",
    "        return 2\n",
    "    elif x in ['2', '3']:\n",
    "        return 3\n",
    "    elif x in ['4', '5', '6', '7']:\n",
    "        return 4\n",
    "    elif x in ['8']:\n",
    "        return 5\n",
    "    else:\n",
    "        return 99\n",
    "\n",
    "train.B1 = train.B1.apply(handle_profile)\n",
    "test.B1 = test.B1.apply(handle_profile)"
   ]
  },
  {
   "cell_type": "code",
   "execution_count": null,
   "metadata": {
    "execution": {
     "iopub.execute_input": "2023-12-11T12:10:03.134559Z",
     "iopub.status.busy": "2023-12-11T12:10:03.133769Z",
     "iopub.status.idle": "2023-12-11T12:10:03.170034Z",
     "shell.execute_reply": "2023-12-11T12:10:03.168498Z"
    },
    "papermill": {
     "duration": 0.050515,
     "end_time": "2023-12-11T12:10:03.172798",
     "exception": false,
     "start_time": "2023-12-11T12:10:03.122283",
     "status": "completed"
    },
    "tags": []
   },
   "outputs": [],
   "source": [
    "# 가입한 이동통신사: 1~6/97 정상값 \n",
    "train.B2.value_counts()"
   ]
  },
  {
   "cell_type": "code",
   "execution_count": null,
   "metadata": {
    "execution": {
     "iopub.execute_input": "2023-12-11T12:10:03.196107Z",
     "iopub.status.busy": "2023-12-11T12:10:03.195735Z",
     "iopub.status.idle": "2023-12-11T12:10:03.692874Z",
     "shell.execute_reply": "2023-12-11T12:10:03.691575Z"
    },
    "papermill": {
     "duration": 0.512125,
     "end_time": "2023-12-11T12:10:03.696073",
     "exception": false,
     "start_time": "2023-12-11T12:10:03.183948",
     "status": "completed"
    },
    "tags": []
   },
   "outputs": [],
   "source": [
    "def handle_profile(x):\n",
    "    if x in ['1', '2', '3', '4', '5', '6']:\n",
    "        return int(x)\n",
    "    else:\n",
    "        return 99\n",
    "\n",
    "train.B2 = train.B2.apply(handle_profile)\n",
    "test.B2 = test.B2.apply(handle_profile)"
   ]
  },
  {
   "cell_type": "code",
   "execution_count": null,
   "metadata": {
    "execution": {
     "iopub.execute_input": "2023-12-11T12:10:03.71976Z",
     "iopub.status.busy": "2023-12-11T12:10:03.719369Z",
     "iopub.status.idle": "2023-12-11T12:10:03.755472Z",
     "shell.execute_reply": "2023-12-11T12:10:03.754393Z"
    },
    "papermill": {
     "duration": 0.050679,
     "end_time": "2023-12-11T12:10:03.757526",
     "exception": false,
     "start_time": "2023-12-11T12:10:03.706847",
     "status": "completed"
    },
    "tags": []
   },
   "outputs": [],
   "source": [
    "# 휴대폰 브랜드: 1~7/97/99\n",
    "train.B3.value_counts()"
   ]
  },
  {
   "cell_type": "code",
   "execution_count": null,
   "metadata": {
    "execution": {
     "iopub.execute_input": "2023-12-11T12:10:03.780804Z",
     "iopub.status.busy": "2023-12-11T12:10:03.780221Z",
     "iopub.status.idle": "2023-12-11T12:10:04.325904Z",
     "shell.execute_reply": "2023-12-11T12:10:04.324511Z"
    },
    "papermill": {
     "duration": 0.560106,
     "end_time": "2023-12-11T12:10:04.32831",
     "exception": false,
     "start_time": "2023-12-11T12:10:03.768204",
     "status": "completed"
    },
    "tags": []
   },
   "outputs": [],
   "source": [
    "def handle_profile(x):    \n",
    "    if x in ['1', '2', '3']:\n",
    "        return int(x)\n",
    "    elif x in ['1,', '2,', '3,']:\n",
    "        return int(x[0])\n",
    "    elif x in ['99', '99,']:\n",
    "        return 99\n",
    "    else:\n",
    "        return 4  # 기타 제조사\n",
    "\n",
    "train.B3 = train.B3.apply(handle_profile)\n",
    "test.B3 = test.B3.apply(handle_profile)"
   ]
  },
  {
   "cell_type": "code",
   "execution_count": null,
   "metadata": {
    "execution": {
     "iopub.execute_input": "2023-12-11T12:10:04.35226Z",
     "iopub.status.busy": "2023-12-11T12:10:04.351871Z",
     "iopub.status.idle": "2023-12-11T12:10:04.424224Z",
     "shell.execute_reply": "2023-12-11T12:10:04.422948Z"
    },
    "papermill": {
     "duration": 0.087368,
     "end_time": "2023-12-11T12:10:04.427104",
     "exception": false,
     "start_time": "2023-12-11T12:10:04.339736",
     "status": "completed"
    },
    "tags": []
   },
   "outputs": [],
   "source": [
    "# 서베이 제목에서 유용한 정보 추출\n",
    "train.TITLE.value_counts()"
   ]
  },
  {
   "cell_type": "code",
   "execution_count": null,
   "metadata": {
    "execution": {
     "iopub.execute_input": "2023-12-11T12:10:04.450752Z",
     "iopub.status.busy": "2023-12-11T12:10:04.450261Z",
     "iopub.status.idle": "2023-12-11T12:10:26.527811Z",
     "shell.execute_reply": "2023-12-11T12:10:26.526271Z"
    },
    "papermill": {
     "duration": 22.092481,
     "end_time": "2023-12-11T12:10:26.530545",
     "exception": false,
     "start_time": "2023-12-11T12:10:04.438064",
     "status": "completed"
    },
    "tags": []
   },
   "outputs": [],
   "source": [
    "word_counts = {}\n",
    "def count_word(x): # 응답한 서베이 제목에서 한글 단어만 분리하고 빈도 계산\n",
    "    if x['STATUS'] == 1:\n",
    "        for w in re.sub(r'[^ ㄱ-ㅣ가-힣]', '', x['TITLE']).split():\n",
    "            word_counts[w] = word_counts.get(w, 0) + 1\n",
    "def score_word(x): # 빈도의 합으로 제목을 Encoding\n",
    "    score = 0\n",
    "    for w in re.sub(r'[^ ㄱ-ㅣ가-힣]', '', x['TITLE']).split():\n",
    "        score += word_counts.get(w, 0)\n",
    "    return score    \n",
    "            \n",
    "train.apply(count_word, axis=1)\n",
    "train.TITLE = train.apply(score_word, axis=1)\n",
    "test.TITLE = test.apply(score_word, axis=1)"
   ]
  },
  {
   "cell_type": "code",
   "execution_count": null,
   "metadata": {
    "execution": {
     "iopub.execute_input": "2023-12-11T12:10:26.553499Z",
     "iopub.status.busy": "2023-12-11T12:10:26.553076Z",
     "iopub.status.idle": "2023-12-11T12:10:28.002836Z",
     "shell.execute_reply": "2023-12-11T12:10:28.001731Z"
    },
    "papermill": {
     "duration": 1.463951,
     "end_time": "2023-12-11T12:10:28.005266",
     "exception": false,
     "start_time": "2023-12-11T12:10:26.541315",
     "status": "completed"
    },
    "tags": []
   },
   "outputs": [],
   "source": [
    "# 응답률 feature 생성\n",
    "res_freq = train.query('STATUS == 1').groupby('userID')['userID'].agg([('FREQ',np.size)]).reset_index()\n",
    "send_freq = train.groupby('userID')['userID'].agg([('SEND',np.size)]).reset_index()\n",
    "train = train.merge(res_freq, how='left').merge(send_freq, how='left')\n",
    "train['RESRATE'] = train['FREQ'] / train['SEND']\n",
    "del train['FREQ'], train['SEND']\n",
    "test = pd.merge(test, train.drop_duplicates(subset=['userID'])[['userID', 'RESRATE']], how='left')\n",
    "test['RESRATE'] = test['RESRATE'].fillna(0) # 결측값을 이렇게 처리하는게 최선일까?\n",
    "\n",
    "features.extend(['RESRATE'])"
   ]
  },
  {
   "cell_type": "code",
   "execution_count": null,
   "metadata": {
    "execution": {
     "iopub.execute_input": "2023-12-11T12:10:28.029316Z",
     "iopub.status.busy": "2023-12-11T12:10:28.028689Z",
     "iopub.status.idle": "2023-12-11T12:10:28.327073Z",
     "shell.execute_reply": "2023-12-11T12:10:28.325558Z"
    },
    "papermill": {
     "duration": 0.313382,
     "end_time": "2023-12-11T12:10:28.329644",
     "exception": false,
     "start_time": "2023-12-11T12:10:28.016262",
     "status": "completed"
    },
    "tags": []
   },
   "outputs": [],
   "source": [
    "# 데이터 필터링\n",
    "X_train = train[features]\n",
    "X_test = test[features]\n",
    "y_train = train['STATUS']\n",
    "\n",
    "# submission을 만들 때 사용하기 위해 ID 저정\n",
    "ID_test = test.ID\n",
    "\n",
    "# 메모리 낭비를 막기위해 불필요한 데이터 삭제\n",
    "del train, test \n",
    "gc.collect()"
   ]
  },
  {
   "cell_type": "code",
   "execution_count": null,
   "metadata": {
    "execution": {
     "iopub.execute_input": "2023-12-11T12:10:28.353337Z",
     "iopub.status.busy": "2023-12-11T12:10:28.352928Z",
     "iopub.status.idle": "2023-12-11T12:10:28.359148Z",
     "shell.execute_reply": "2023-12-11T12:10:28.357412Z"
    },
    "papermill": {
     "duration": 0.021063,
     "end_time": "2023-12-11T12:10:28.361605",
     "exception": false,
     "start_time": "2023-12-11T12:10:28.340542",
     "status": "completed"
    },
    "tags": []
   },
   "outputs": [],
   "source": [
    "# 범주형 변수와 수치형 변수를 분리\n",
    "cat_features = ['GENDER', 'REGION', 'TYPE', 'SQ4', 'SQ5', 'SQ6', 'SQ7', 'SQ8', 'A1', 'B1', 'B2', 'B3', 'B4', 'B5']\n",
    "num_features = list(set(X_train.columns) - set(cat_features))"
   ]
  },
  {
   "cell_type": "markdown",
   "metadata": {
    "papermill": {
     "duration": 0.010517,
     "end_time": "2023-12-11T12:10:28.383157",
     "exception": false,
     "start_time": "2023-12-11T12:10:28.37264",
     "status": "completed"
    },
    "tags": []
   },
   "source": [
    "### Feature Engineering"
   ]
  },
  {
   "cell_type": "markdown",
   "metadata": {
    "papermill": {
     "duration": 0.010815,
     "end_time": "2023-12-11T12:10:28.404871",
     "exception": false,
     "start_time": "2023-12-11T12:10:28.394056",
     "status": "completed"
    },
    "tags": []
   },
   "source": [
    "##### Impute missing values"
   ]
  },
  {
   "cell_type": "code",
   "execution_count": null,
   "metadata": {
    "execution": {
     "iopub.execute_input": "2023-12-11T12:10:28.430543Z",
     "iopub.status.busy": "2023-12-11T12:10:28.429031Z",
     "iopub.status.idle": "2023-12-11T12:10:31.348568Z",
     "shell.execute_reply": "2023-12-11T12:10:31.347532Z"
    },
    "papermill": {
     "duration": 2.935148,
     "end_time": "2023-12-11T12:10:31.350958",
     "exception": false,
     "start_time": "2023-12-11T12:10:28.41581",
     "status": "completed"
    },
    "tags": []
   },
   "outputs": [],
   "source": [
    "# 결측값 처리: 범주형이냐 수치형이냐에 따라 다르게 처리\n",
    "if len(num_features) > 0:\n",
    "    imp = SimpleImputer(strategy='mean')\n",
    "    X_train[num_features] = imp.fit_transform(X_train[num_features])\n",
    "    X_test[num_features] = imp.transform(X_test[num_features])\n",
    "if len(cat_features) > 0:  \n",
    "    imp = SimpleImputer(strategy=\"most_frequent\")\n",
    "    X_train[cat_features] = imp.fit_transform(X_train[cat_features])\n",
    "    X_test[cat_features] = imp.transform(X_test[cat_features])"
   ]
  },
  {
   "cell_type": "code",
   "execution_count": null,
   "metadata": {
    "execution": {
     "iopub.execute_input": "2023-12-11T12:10:31.373848Z",
     "iopub.status.busy": "2023-12-11T12:10:31.373549Z",
     "iopub.status.idle": "2023-12-11T12:10:31.478069Z",
     "shell.execute_reply": "2023-12-11T12:10:31.47668Z"
    },
    "papermill": {
     "duration": 0.119136,
     "end_time": "2023-12-11T12:10:31.480753",
     "exception": false,
     "start_time": "2023-12-11T12:10:31.361617",
     "status": "completed"
    },
    "tags": []
   },
   "outputs": [],
   "source": [
    "X_train['GENDER'] = X_train['GENDER'].astype(int)\n",
    "X_train['REGION'] = X_train['REGION'].astype(int)\n",
    "X_test['GENDER'] = X_test['GENDER'].astype(int)\n",
    "X_test['REGION'] = X_test['REGION'].astype(int)"
   ]
  },
  {
   "cell_type": "markdown",
   "metadata": {
    "papermill": {
     "duration": 0.010473,
     "end_time": "2023-12-11T12:10:31.50224",
     "exception": false,
     "start_time": "2023-12-11T12:10:31.491767",
     "status": "completed"
    },
    "tags": []
   },
   "source": [
    "##### Transform features (Feature Scaling)"
   ]
  },
  {
   "cell_type": "code",
   "execution_count": null,
   "metadata": {
    "execution": {
     "iopub.execute_input": "2023-12-11T12:10:31.525714Z",
     "iopub.status.busy": "2023-12-11T12:10:31.525395Z",
     "iopub.status.idle": "2023-12-11T12:10:31.616299Z",
     "shell.execute_reply": "2023-12-11T12:10:31.614674Z"
    },
    "papermill": {
     "duration": 0.105752,
     "end_time": "2023-12-11T12:10:31.61877",
     "exception": false,
     "start_time": "2023-12-11T12:10:31.513018",
     "status": "completed"
    },
    "tags": []
   },
   "outputs": [],
   "source": [
    "scaler = StandardScaler()\n",
    "X_train[num_features] = scaler.fit_transform(X_train[num_features])\n",
    "X_test[num_features] = scaler.transform(X_test[num_features])"
   ]
  },
  {
   "cell_type": "markdown",
   "metadata": {
    "papermill": {
     "duration": 0.010943,
     "end_time": "2023-12-11T12:10:31.641503",
     "exception": false,
     "start_time": "2023-12-11T12:10:31.63056",
     "status": "completed"
    },
    "tags": []
   },
   "source": [
    "##### Encode categorical features"
   ]
  },
  {
   "cell_type": "code",
   "execution_count": null,
   "metadata": {
    "execution": {
     "iopub.execute_input": "2023-12-11T12:10:31.664868Z",
     "iopub.status.busy": "2023-12-11T12:10:31.664545Z",
     "iopub.status.idle": "2023-12-11T12:10:35.100494Z",
     "shell.execute_reply": "2023-12-11T12:10:35.09922Z"
    },
    "papermill": {
     "duration": 3.450278,
     "end_time": "2023-12-11T12:10:35.102891",
     "exception": false,
     "start_time": "2023-12-11T12:10:31.652613",
     "status": "completed"
    },
    "tags": []
   },
   "outputs": [],
   "source": [
    "le = OrdinalEncoder(handle_unknown='use_encoded_value', unknown_value=-1, dtype=int)\n",
    "X_train[cat_features] = le.fit_transform(X_train[cat_features])\n",
    "X_test[cat_features] = le.transform(X_test[cat_features])"
   ]
  },
  {
   "cell_type": "markdown",
   "metadata": {
    "papermill": {
     "duration": 0.010708,
     "end_time": "2023-12-11T12:10:35.124721",
     "exception": false,
     "start_time": "2023-12-11T12:10:35.114013",
     "status": "completed"
    },
    "tags": []
   },
   "source": [
    "### Model building"
   ]
  },
  {
   "cell_type": "code",
   "execution_count": null,
   "metadata": {
    "execution": {
     "iopub.execute_input": "2023-12-11T12:10:35.149057Z",
     "iopub.status.busy": "2023-12-11T12:10:35.148112Z",
     "iopub.status.idle": "2023-12-11T12:10:41.671884Z",
     "shell.execute_reply": "2023-12-11T12:10:41.670786Z"
    },
    "papermill": {
     "duration": 6.540177,
     "end_time": "2023-12-11T12:10:41.675953",
     "exception": false,
     "start_time": "2023-12-11T12:10:35.135776",
     "status": "completed"
    },
    "tags": []
   },
   "outputs": [],
   "source": [
    "model = LGBMClassifier(random_state=0).fit(X_train, y_train)"
   ]
  },
  {
   "cell_type": "markdown",
   "metadata": {
    "papermill": {
     "duration": 0.010844,
     "end_time": "2023-12-11T12:10:41.698157",
     "exception": false,
     "start_time": "2023-12-11T12:10:41.687313",
     "status": "completed"
    },
    "tags": []
   },
   "source": [
    "##### Make a submission"
   ]
  },
  {
   "cell_type": "code",
   "execution_count": null,
   "metadata": {
    "execution": {
     "iopub.execute_input": "2023-12-11T12:10:41.722039Z",
     "iopub.status.busy": "2023-12-11T12:10:41.721712Z",
     "iopub.status.idle": "2023-12-11T12:10:42.976949Z",
     "shell.execute_reply": "2023-12-11T12:10:42.975547Z"
    },
    "papermill": {
     "duration": 1.270123,
     "end_time": "2023-12-11T12:10:42.979313",
     "exception": false,
     "start_time": "2023-12-11T12:10:41.70919",
     "status": "completed"
    },
    "tags": []
   },
   "outputs": [],
   "source": [
    "t = pd.Timestamp.now()\n",
    "fname = f\"baseline_submission_{t.month:02}{t.day:02}{t.hour:02}{t.minute:02}.csv\"\n",
    "pd.DataFrame({'ID': ID_test, 'STATUS': model.predict(X_test)}).to_csv(fname, index=False)\n",
    "print(f\"'{fname}' is ready to submit.\")"
   ]
  },
  {
   "cell_type": "markdown",
   "metadata": {
    "papermill": {
     "duration": 0.010816,
     "end_time": "2023-12-11T12:10:43.001343",
     "exception": false,
     "start_time": "2023-12-11T12:10:42.990527",
     "status": "completed"
    },
    "tags": []
   },
   "source": [
    "<font color=\"#CC3D3D\"><p>\n",
    "# End"
   ]
  }
 ],
 "metadata": {
  "kaggle": {
   "accelerator": "none",
   "dataSources": [
    {
     "databundleVersionId": 7261066,
     "sourceId": 65909,
     "sourceType": "competition"
    }
   ],
   "dockerImageVersionId": 30615,
   "isGpuEnabled": false,
   "isInternetEnabled": true,
   "language": "python",
   "sourceType": "notebook"
  },
  "kernelspec": {
   "display_name": "Python 3 (ipykernel)",
   "language": "python",
   "name": "python3"
  },
  "language_info": {
   "codemirror_mode": {
    "name": "ipython",
    "version": 3
   },
   "file_extension": ".py",
   "mimetype": "text/x-python",
   "name": "python",
   "nbconvert_exporter": "python",
   "pygments_lexer": "ipython3",
   "version": "3.12.4"
  },
  "papermill": {
   "default_parameters": {},
   "duration": 65.031816,
   "end_time": "2023-12-11T12:10:43.93772",
   "environment_variables": {},
   "exception": null,
   "input_path": "__notebook__.ipynb",
   "output_path": "__notebook__.ipynb",
   "parameters": {},
   "start_time": "2023-12-11T12:09:38.905904",
   "version": "2.4.0"
  }
 },
 "nbformat": 4,
 "nbformat_minor": 4
}
